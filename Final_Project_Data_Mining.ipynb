{
 "cells": [
  {
   "cell_type": "code",
   "execution_count": 1,
   "metadata": {
    "id": "rUqSdRBDGzHl"
   },
   "outputs": [],
   "source": [
    "#importing all necessary libraries and modules\n",
    "import numpy as np\n",
    "import pandas as pd\n",
    "import matplotlib.pyplot as plt\n",
    "import seaborn as sns\n",
    "import re\n",
    "import statistics\n",
    "import datetime as dt"
   ]
  },
  {
   "cell_type": "code",
   "execution_count": 2,
   "metadata": {},
   "outputs": [
    {
     "data": {
      "text/html": [
       "<div>\n",
       "<style scoped>\n",
       "    .dataframe tbody tr th:only-of-type {\n",
       "        vertical-align: middle;\n",
       "    }\n",
       "\n",
       "    .dataframe tbody tr th {\n",
       "        vertical-align: top;\n",
       "    }\n",
       "\n",
       "    .dataframe thead th {\n",
       "        text-align: right;\n",
       "    }\n",
       "</style>\n",
       "<table border=\"1\" class=\"dataframe\">\n",
       "  <thead>\n",
       "    <tr style=\"text-align: right;\">\n",
       "      <th></th>\n",
       "      <th>client_id</th>\n",
       "      <th>target</th>\n",
       "    </tr>\n",
       "  </thead>\n",
       "  <tbody>\n",
       "    <tr>\n",
       "      <th>0</th>\n",
       "      <td>75063019</td>\n",
       "      <td>0</td>\n",
       "    </tr>\n",
       "    <tr>\n",
       "      <th>1</th>\n",
       "      <td>86227647</td>\n",
       "      <td>1</td>\n",
       "    </tr>\n",
       "    <tr>\n",
       "      <th>2</th>\n",
       "      <td>6506523</td>\n",
       "      <td>0</td>\n",
       "    </tr>\n",
       "    <tr>\n",
       "      <th>3</th>\n",
       "      <td>50615998</td>\n",
       "      <td>0</td>\n",
       "    </tr>\n",
       "    <tr>\n",
       "      <th>4</th>\n",
       "      <td>95213230</td>\n",
       "      <td>0</td>\n",
       "    </tr>\n",
       "    <tr>\n",
       "      <th>...</th>\n",
       "      <td>...</td>\n",
       "      <td>...</td>\n",
       "    </tr>\n",
       "    <tr>\n",
       "      <th>5995</th>\n",
       "      <td>71577803</td>\n",
       "      <td>0</td>\n",
       "    </tr>\n",
       "    <tr>\n",
       "      <th>5996</th>\n",
       "      <td>8128547</td>\n",
       "      <td>1</td>\n",
       "    </tr>\n",
       "    <tr>\n",
       "      <th>5997</th>\n",
       "      <td>26055781</td>\n",
       "      <td>0</td>\n",
       "    </tr>\n",
       "    <tr>\n",
       "      <th>5998</th>\n",
       "      <td>73504380</td>\n",
       "      <td>1</td>\n",
       "    </tr>\n",
       "    <tr>\n",
       "      <th>5999</th>\n",
       "      <td>1846496</td>\n",
       "      <td>0</td>\n",
       "    </tr>\n",
       "  </tbody>\n",
       "</table>\n",
       "<p>6000 rows × 2 columns</p>\n",
       "</div>"
      ],
      "text/plain": [
       "      client_id  target\n",
       "0      75063019       0\n",
       "1      86227647       1\n",
       "2       6506523       0\n",
       "3      50615998       0\n",
       "4      95213230       0\n",
       "...         ...     ...\n",
       "5995   71577803       0\n",
       "5996    8128547       1\n",
       "5997   26055781       0\n",
       "5998   73504380       1\n",
       "5999    1846496       0\n",
       "\n",
       "[6000 rows x 2 columns]"
      ]
     },
     "execution_count": 2,
     "metadata": {},
     "output_type": "execute_result"
    }
   ],
   "source": [
    "train  = pd.read_csv('train_set.csv', sep = ';')\n",
    "train"
   ]
  },
  {
   "cell_type": "code",
   "execution_count": 3,
   "metadata": {},
   "outputs": [
    {
     "data": {
      "text/html": [
       "<div>\n",
       "<style scoped>\n",
       "    .dataframe tbody tr th:only-of-type {\n",
       "        vertical-align: middle;\n",
       "    }\n",
       "\n",
       "    .dataframe tbody tr th {\n",
       "        vertical-align: top;\n",
       "    }\n",
       "\n",
       "    .dataframe thead th {\n",
       "        text-align: right;\n",
       "    }\n",
       "</style>\n",
       "<table border=\"1\" class=\"dataframe\">\n",
       "  <thead>\n",
       "    <tr style=\"text-align: right;\">\n",
       "      <th></th>\n",
       "      <th>client_id</th>\n",
       "      <th>datetime</th>\n",
       "      <th>code</th>\n",
       "      <th>type</th>\n",
       "      <th>sum</th>\n",
       "    </tr>\n",
       "  </thead>\n",
       "  <tbody>\n",
       "    <tr>\n",
       "      <th>0</th>\n",
       "      <td>96372458</td>\n",
       "      <td>421 06:33:15</td>\n",
       "      <td>6011</td>\n",
       "      <td>2010</td>\n",
       "      <td>-561478.94</td>\n",
       "    </tr>\n",
       "    <tr>\n",
       "      <th>1</th>\n",
       "      <td>24567813</td>\n",
       "      <td>377 17:20:40</td>\n",
       "      <td>6011</td>\n",
       "      <td>7010</td>\n",
       "      <td>67377.47</td>\n",
       "    </tr>\n",
       "    <tr>\n",
       "      <th>2</th>\n",
       "      <td>21717441</td>\n",
       "      <td>55 13:38:47</td>\n",
       "      <td>6011</td>\n",
       "      <td>2010</td>\n",
       "      <td>-44918.32</td>\n",
       "    </tr>\n",
       "    <tr>\n",
       "      <th>3</th>\n",
       "      <td>14331004</td>\n",
       "      <td>263 12:57:08</td>\n",
       "      <td>6011</td>\n",
       "      <td>2010</td>\n",
       "      <td>-3368873.66</td>\n",
       "    </tr>\n",
       "    <tr>\n",
       "      <th>4</th>\n",
       "      <td>85302434</td>\n",
       "      <td>151 10:34:12</td>\n",
       "      <td>4814</td>\n",
       "      <td>1030</td>\n",
       "      <td>-3368.87</td>\n",
       "    </tr>\n",
       "    <tr>\n",
       "      <th>...</th>\n",
       "      <td>...</td>\n",
       "      <td>...</td>\n",
       "      <td>...</td>\n",
       "      <td>...</td>\n",
       "      <td>...</td>\n",
       "    </tr>\n",
       "    <tr>\n",
       "      <th>130034</th>\n",
       "      <td>15836839</td>\n",
       "      <td>147 11:50:53</td>\n",
       "      <td>5411</td>\n",
       "      <td>1010</td>\n",
       "      <td>-26344.59</td>\n",
       "    </tr>\n",
       "    <tr>\n",
       "      <th>130035</th>\n",
       "      <td>28369355</td>\n",
       "      <td>305 11:59:34</td>\n",
       "      <td>4829</td>\n",
       "      <td>2330</td>\n",
       "      <td>-24705.07</td>\n",
       "    </tr>\n",
       "    <tr>\n",
       "      <th>130036</th>\n",
       "      <td>40949707</td>\n",
       "      <td>398 21:13:58</td>\n",
       "      <td>5411</td>\n",
       "      <td>1110</td>\n",
       "      <td>-40353.72</td>\n",
       "    </tr>\n",
       "    <tr>\n",
       "      <th>130037</th>\n",
       "      <td>7174462</td>\n",
       "      <td>409 13:58:14</td>\n",
       "      <td>5411</td>\n",
       "      <td>1010</td>\n",
       "      <td>-25536.06</td>\n",
       "    </tr>\n",
       "    <tr>\n",
       "      <th>130038</th>\n",
       "      <td>92197764</td>\n",
       "      <td>319 00:00:00</td>\n",
       "      <td>5533</td>\n",
       "      <td>1110</td>\n",
       "      <td>-12127.95</td>\n",
       "    </tr>\n",
       "  </tbody>\n",
       "</table>\n",
       "<p>130039 rows × 5 columns</p>\n",
       "</div>"
      ],
      "text/plain": [
       "        client_id      datetime  code  type         sum\n",
       "0        96372458  421 06:33:15  6011  2010  -561478.94\n",
       "1        24567813  377 17:20:40  6011  7010    67377.47\n",
       "2        21717441   55 13:38:47  6011  2010   -44918.32\n",
       "3        14331004  263 12:57:08  6011  2010 -3368873.66\n",
       "4        85302434  151 10:34:12  4814  1030    -3368.87\n",
       "...           ...           ...   ...   ...         ...\n",
       "130034   15836839  147 11:50:53  5411  1010   -26344.59\n",
       "130035   28369355  305 11:59:34  4829  2330   -24705.07\n",
       "130036   40949707  398 21:13:58  5411  1110   -40353.72\n",
       "130037    7174462  409 13:58:14  5411  1010   -25536.06\n",
       "130038   92197764  319 00:00:00  5533  1110   -12127.95\n",
       "\n",
       "[130039 rows x 5 columns]"
      ]
     },
     "execution_count": 3,
     "metadata": {},
     "output_type": "execute_result"
    }
   ],
   "source": [
    "transactions = pd.read_csv('transactions.csv', sep = ';')\n",
    "transactions"
   ]
  },
  {
   "cell_type": "code",
   "execution_count": 4,
   "metadata": {},
   "outputs": [
    {
     "data": {
      "text/html": [
       "<div>\n",
       "<style scoped>\n",
       "    .dataframe tbody tr th:only-of-type {\n",
       "        vertical-align: middle;\n",
       "    }\n",
       "\n",
       "    .dataframe tbody tr th {\n",
       "        vertical-align: top;\n",
       "    }\n",
       "\n",
       "    .dataframe thead th {\n",
       "        text-align: right;\n",
       "    }\n",
       "</style>\n",
       "<table border=\"1\" class=\"dataframe\">\n",
       "  <thead>\n",
       "    <tr style=\"text-align: right;\">\n",
       "      <th></th>\n",
       "      <th>type</th>\n",
       "      <th>type_description</th>\n",
       "    </tr>\n",
       "  </thead>\n",
       "  <tbody>\n",
       "    <tr>\n",
       "      <th>0</th>\n",
       "      <td>8001</td>\n",
       "      <td>Установление расх. лимита по карте</td>\n",
       "    </tr>\n",
       "    <tr>\n",
       "      <th>1</th>\n",
       "      <td>2411</td>\n",
       "      <td>Перевод с карты на счет др.лица в одном тер. б...</td>\n",
       "    </tr>\n",
       "    <tr>\n",
       "      <th>2</th>\n",
       "      <td>4035</td>\n",
       "      <td>н/д(нет данных)</td>\n",
       "    </tr>\n",
       "    <tr>\n",
       "      <th>3</th>\n",
       "      <td>3001</td>\n",
       "      <td>Комиссия за обслуживание ссудного счета</td>\n",
       "    </tr>\n",
       "    <tr>\n",
       "      <th>4</th>\n",
       "      <td>2420</td>\n",
       "      <td>Перевод с карты на счет физ.лица в другом тер....</td>\n",
       "    </tr>\n",
       "    <tr>\n",
       "      <th>...</th>\n",
       "      <td>...</td>\n",
       "      <td>...</td>\n",
       "    </tr>\n",
       "    <tr>\n",
       "      <th>150</th>\n",
       "      <td>4110</td>\n",
       "      <td>Плата за получение наличных в АТМ.</td>\n",
       "    </tr>\n",
       "    <tr>\n",
       "      <th>151</th>\n",
       "      <td>2320</td>\n",
       "      <td>Безналичный перевод денежных средств через POS</td>\n",
       "    </tr>\n",
       "    <tr>\n",
       "      <th>152</th>\n",
       "      <td>7040</td>\n",
       "      <td>Перевод на карту (с карты) через POS (в предел...</td>\n",
       "    </tr>\n",
       "    <tr>\n",
       "      <th>153</th>\n",
       "      <td>2433</td>\n",
       "      <td>Перевод с карты на счет физ.лица в другом банк...</td>\n",
       "    </tr>\n",
       "    <tr>\n",
       "      <th>154</th>\n",
       "      <td>2431</td>\n",
       "      <td>Перевод с карты на счет физ.лица в другом банк...</td>\n",
       "    </tr>\n",
       "  </tbody>\n",
       "</table>\n",
       "<p>155 rows × 2 columns</p>\n",
       "</div>"
      ],
      "text/plain": [
       "     type                                   type_description\n",
       "0    8001                 Установление расх. лимита по карте\n",
       "1    2411  Перевод с карты на счет др.лица в одном тер. б...\n",
       "2    4035                                    н/д(нет данных)\n",
       "3    3001            Комиссия за обслуживание ссудного счета\n",
       "4    2420  Перевод с карты на счет физ.лица в другом тер....\n",
       "..    ...                                                ...\n",
       "150  4110                 Плата за получение наличных в АТМ.\n",
       "151  2320     Безналичный перевод денежных средств через POS\n",
       "152  7040  Перевод на карту (с карты) через POS (в предел...\n",
       "153  2433  Перевод с карты на счет физ.лица в другом банк...\n",
       "154  2431  Перевод с карты на счет физ.лица в другом банк...\n",
       "\n",
       "[155 rows x 2 columns]"
      ]
     },
     "execution_count": 4,
     "metadata": {},
     "output_type": "execute_result"
    }
   ],
   "source": [
    "types = pd.read_csv('types.csv', sep = ';')\n",
    "types"
   ]
  },
  {
   "cell_type": "code",
   "execution_count": 5,
   "metadata": {},
   "outputs": [
    {
     "data": {
      "text/html": [
       "<div>\n",
       "<style scoped>\n",
       "    .dataframe tbody tr th:only-of-type {\n",
       "        vertical-align: middle;\n",
       "    }\n",
       "\n",
       "    .dataframe tbody tr th {\n",
       "        vertical-align: top;\n",
       "    }\n",
       "\n",
       "    .dataframe thead th {\n",
       "        text-align: right;\n",
       "    }\n",
       "</style>\n",
       "<table border=\"1\" class=\"dataframe\">\n",
       "  <thead>\n",
       "    <tr style=\"text-align: right;\">\n",
       "      <th></th>\n",
       "      <th>code</th>\n",
       "      <th>code_description</th>\n",
       "    </tr>\n",
       "  </thead>\n",
       "  <tbody>\n",
       "    <tr>\n",
       "      <th>0</th>\n",
       "      <td>5944</td>\n",
       "      <td>Магазины по продаже часов, ювелирных изделий и...</td>\n",
       "    </tr>\n",
       "    <tr>\n",
       "      <th>1</th>\n",
       "      <td>5621</td>\n",
       "      <td>Готовые сумочные изделия</td>\n",
       "    </tr>\n",
       "    <tr>\n",
       "      <th>2</th>\n",
       "      <td>5697</td>\n",
       "      <td>Услуги по переделке, починке и пошиву одежды</td>\n",
       "    </tr>\n",
       "    <tr>\n",
       "      <th>3</th>\n",
       "      <td>7995</td>\n",
       "      <td>Транзакции по азартным играм</td>\n",
       "    </tr>\n",
       "    <tr>\n",
       "      <th>4</th>\n",
       "      <td>5137</td>\n",
       "      <td>Мужская, женская и детская спец-одежда</td>\n",
       "    </tr>\n",
       "    <tr>\n",
       "      <th>...</th>\n",
       "      <td>...</td>\n",
       "      <td>...</td>\n",
       "    </tr>\n",
       "    <tr>\n",
       "      <th>179</th>\n",
       "      <td>5044</td>\n",
       "      <td>Офисное, фотографическое, фотокопировальное, и...</td>\n",
       "    </tr>\n",
       "    <tr>\n",
       "      <th>180</th>\n",
       "      <td>5983</td>\n",
       "      <td>Горючее топливо — уголь, нефть, разжиженный бе...</td>\n",
       "    </tr>\n",
       "    <tr>\n",
       "      <th>181</th>\n",
       "      <td>5994</td>\n",
       "      <td>Дилеры по продаже печатной продукции</td>\n",
       "    </tr>\n",
       "    <tr>\n",
       "      <th>182</th>\n",
       "      <td>5192</td>\n",
       "      <td>Книги, периодические издания и газеты</td>\n",
       "    </tr>\n",
       "    <tr>\n",
       "      <th>183</th>\n",
       "      <td>7922</td>\n",
       "      <td>Театральные продюсерские агентства</td>\n",
       "    </tr>\n",
       "  </tbody>\n",
       "</table>\n",
       "<p>184 rows × 2 columns</p>\n",
       "</div>"
      ],
      "text/plain": [
       "     code                                   code_description\n",
       "0    5944  Магазины по продаже часов, ювелирных изделий и...\n",
       "1    5621                           Готовые сумочные изделия\n",
       "2    5697       Услуги по переделке, починке и пошиву одежды\n",
       "3    7995                       Транзакции по азартным играм\n",
       "4    5137             Мужская, женская и детская спец-одежда\n",
       "..    ...                                                ...\n",
       "179  5044  Офисное, фотографическое, фотокопировальное, и...\n",
       "180  5983  Горючее топливо — уголь, нефть, разжиженный бе...\n",
       "181  5994               Дилеры по продаже печатной продукции\n",
       "182  5192              Книги, периодические издания и газеты\n",
       "183  7922                 Театральные продюсерские агентства\n",
       "\n",
       "[184 rows x 2 columns]"
      ]
     },
     "execution_count": 5,
     "metadata": {},
     "output_type": "execute_result"
    }
   ],
   "source": [
    "codes = pd.read_csv('codes.csv', sep = ';')\n",
    "codes"
   ]
  },
  {
   "cell_type": "code",
   "execution_count": 6,
   "metadata": {},
   "outputs": [
    {
     "data": {
      "text/html": [
       "<div>\n",
       "<style scoped>\n",
       "    .dataframe tbody tr th:only-of-type {\n",
       "        vertical-align: middle;\n",
       "    }\n",
       "\n",
       "    .dataframe tbody tr th {\n",
       "        vertical-align: top;\n",
       "    }\n",
       "\n",
       "    .dataframe thead th {\n",
       "        text-align: right;\n",
       "    }\n",
       "</style>\n",
       "<table border=\"1\" class=\"dataframe\">\n",
       "  <thead>\n",
       "    <tr style=\"text-align: right;\">\n",
       "      <th></th>\n",
       "      <th>client_id</th>\n",
       "      <th>datetime</th>\n",
       "      <th>code</th>\n",
       "      <th>type</th>\n",
       "      <th>sum</th>\n",
       "      <th>target</th>\n",
       "    </tr>\n",
       "  </thead>\n",
       "  <tbody>\n",
       "    <tr>\n",
       "      <th>0</th>\n",
       "      <td>96372458</td>\n",
       "      <td>421 06:33:15</td>\n",
       "      <td>6011</td>\n",
       "      <td>2010</td>\n",
       "      <td>-561478.94</td>\n",
       "      <td>0</td>\n",
       "    </tr>\n",
       "    <tr>\n",
       "      <th>1</th>\n",
       "      <td>96372458</td>\n",
       "      <td>270 06:16:18</td>\n",
       "      <td>6011</td>\n",
       "      <td>7010</td>\n",
       "      <td>224591.58</td>\n",
       "      <td>0</td>\n",
       "    </tr>\n",
       "    <tr>\n",
       "      <th>2</th>\n",
       "      <td>96372458</td>\n",
       "      <td>97 10:48:35</td>\n",
       "      <td>4829</td>\n",
       "      <td>2370</td>\n",
       "      <td>-11229.58</td>\n",
       "      <td>0</td>\n",
       "    </tr>\n",
       "    <tr>\n",
       "      <th>3</th>\n",
       "      <td>96372458</td>\n",
       "      <td>445 07:33:38</td>\n",
       "      <td>4829</td>\n",
       "      <td>2330</td>\n",
       "      <td>-417695.42</td>\n",
       "      <td>0</td>\n",
       "    </tr>\n",
       "    <tr>\n",
       "      <th>4</th>\n",
       "      <td>96372458</td>\n",
       "      <td>4 09:33:46</td>\n",
       "      <td>4814</td>\n",
       "      <td>1030</td>\n",
       "      <td>-2245.92</td>\n",
       "      <td>0</td>\n",
       "    </tr>\n",
       "    <tr>\n",
       "      <th>...</th>\n",
       "      <td>...</td>\n",
       "      <td>...</td>\n",
       "      <td>...</td>\n",
       "      <td>...</td>\n",
       "      <td>...</td>\n",
       "      <td>...</td>\n",
       "    </tr>\n",
       "    <tr>\n",
       "      <th>91821</th>\n",
       "      <td>82133712</td>\n",
       "      <td>424 13:23:10</td>\n",
       "      <td>6011</td>\n",
       "      <td>2010</td>\n",
       "      <td>-17967.33</td>\n",
       "      <td>1</td>\n",
       "    </tr>\n",
       "    <tr>\n",
       "      <th>91822</th>\n",
       "      <td>82133712</td>\n",
       "      <td>232 09:38:10</td>\n",
       "      <td>6536</td>\n",
       "      <td>6110</td>\n",
       "      <td>179673.26</td>\n",
       "      <td>1</td>\n",
       "    </tr>\n",
       "    <tr>\n",
       "      <th>91823</th>\n",
       "      <td>12289409</td>\n",
       "      <td>108 11:13:33</td>\n",
       "      <td>6011</td>\n",
       "      <td>2010</td>\n",
       "      <td>-132509.03</td>\n",
       "      <td>0</td>\n",
       "    </tr>\n",
       "    <tr>\n",
       "      <th>91824</th>\n",
       "      <td>71829751</td>\n",
       "      <td>72 14:50:37</td>\n",
       "      <td>6011</td>\n",
       "      <td>2010</td>\n",
       "      <td>-44918.32</td>\n",
       "      <td>0</td>\n",
       "    </tr>\n",
       "    <tr>\n",
       "      <th>91825</th>\n",
       "      <td>91616522</td>\n",
       "      <td>451 10:53:51</td>\n",
       "      <td>6011</td>\n",
       "      <td>2010</td>\n",
       "      <td>-22459.16</td>\n",
       "      <td>1</td>\n",
       "    </tr>\n",
       "  </tbody>\n",
       "</table>\n",
       "<p>91826 rows × 6 columns</p>\n",
       "</div>"
      ],
      "text/plain": [
       "       client_id      datetime  code  type        sum  target\n",
       "0       96372458  421 06:33:15  6011  2010 -561478.94       0\n",
       "1       96372458  270 06:16:18  6011  7010  224591.58       0\n",
       "2       96372458   97 10:48:35  4829  2370  -11229.58       0\n",
       "3       96372458  445 07:33:38  4829  2330 -417695.42       0\n",
       "4       96372458    4 09:33:46  4814  1030   -2245.92       0\n",
       "...          ...           ...   ...   ...        ...     ...\n",
       "91821   82133712  424 13:23:10  6011  2010  -17967.33       1\n",
       "91822   82133712  232 09:38:10  6536  6110  179673.26       1\n",
       "91823   12289409  108 11:13:33  6011  2010 -132509.03       0\n",
       "91824   71829751   72 14:50:37  6011  2010  -44918.32       0\n",
       "91825   91616522  451 10:53:51  6011  2010  -22459.16       1\n",
       "\n",
       "[91826 rows x 6 columns]"
      ]
     },
     "execution_count": 6,
     "metadata": {},
     "output_type": "execute_result"
    }
   ],
   "source": [
    "df1 = pd.merge(transactions, train, on='client_id', how='inner')# we joined table Transactions with table train by column 'client_id'\n",
    "df1"
   ]
  },
  {
   "cell_type": "code",
   "execution_count": 7,
   "metadata": {},
   "outputs": [
    {
     "data": {
      "text/html": [
       "<div>\n",
       "<style scoped>\n",
       "    .dataframe tbody tr th:only-of-type {\n",
       "        vertical-align: middle;\n",
       "    }\n",
       "\n",
       "    .dataframe tbody tr th {\n",
       "        vertical-align: top;\n",
       "    }\n",
       "\n",
       "    .dataframe thead th {\n",
       "        text-align: right;\n",
       "    }\n",
       "</style>\n",
       "<table border=\"1\" class=\"dataframe\">\n",
       "  <thead>\n",
       "    <tr style=\"text-align: right;\">\n",
       "      <th></th>\n",
       "      <th>client_id</th>\n",
       "      <th>datetime</th>\n",
       "      <th>code</th>\n",
       "      <th>type</th>\n",
       "      <th>sum</th>\n",
       "      <th>target</th>\n",
       "      <th>type_description</th>\n",
       "    </tr>\n",
       "  </thead>\n",
       "  <tbody>\n",
       "    <tr>\n",
       "      <th>0</th>\n",
       "      <td>96372458</td>\n",
       "      <td>421 06:33:15</td>\n",
       "      <td>6011</td>\n",
       "      <td>2010</td>\n",
       "      <td>-561478.94</td>\n",
       "      <td>0</td>\n",
       "      <td>Выдача наличных в АТМ</td>\n",
       "    </tr>\n",
       "    <tr>\n",
       "      <th>1</th>\n",
       "      <td>96372458</td>\n",
       "      <td>68 02:04:11</td>\n",
       "      <td>6011</td>\n",
       "      <td>2010</td>\n",
       "      <td>-426724.00</td>\n",
       "      <td>0</td>\n",
       "      <td>Выдача наличных в АТМ</td>\n",
       "    </tr>\n",
       "    <tr>\n",
       "      <th>2</th>\n",
       "      <td>96372458</td>\n",
       "      <td>433 06:45:32</td>\n",
       "      <td>6011</td>\n",
       "      <td>2010</td>\n",
       "      <td>-112295.79</td>\n",
       "      <td>0</td>\n",
       "      <td>Выдача наличных в АТМ</td>\n",
       "    </tr>\n",
       "    <tr>\n",
       "      <th>3</th>\n",
       "      <td>21717441</td>\n",
       "      <td>55 13:38:47</td>\n",
       "      <td>6011</td>\n",
       "      <td>2010</td>\n",
       "      <td>-44918.32</td>\n",
       "      <td>0</td>\n",
       "      <td>Выдача наличных в АТМ</td>\n",
       "    </tr>\n",
       "    <tr>\n",
       "      <th>4</th>\n",
       "      <td>21717441</td>\n",
       "      <td>294 13:27:44</td>\n",
       "      <td>6011</td>\n",
       "      <td>2010</td>\n",
       "      <td>-898366.31</td>\n",
       "      <td>0</td>\n",
       "      <td>Выдача наличных в АТМ</td>\n",
       "    </tr>\n",
       "  </tbody>\n",
       "</table>\n",
       "</div>"
      ],
      "text/plain": [
       "   client_id      datetime  code  type        sum  target  \\\n",
       "0   96372458  421 06:33:15  6011  2010 -561478.94       0   \n",
       "1   96372458   68 02:04:11  6011  2010 -426724.00       0   \n",
       "2   96372458  433 06:45:32  6011  2010 -112295.79       0   \n",
       "3   21717441   55 13:38:47  6011  2010  -44918.32       0   \n",
       "4   21717441  294 13:27:44  6011  2010 -898366.31       0   \n",
       "\n",
       "        type_description  \n",
       "0  Выдача наличных в АТМ  \n",
       "1  Выдача наличных в АТМ  \n",
       "2  Выдача наличных в АТМ  \n",
       "3  Выдача наличных в АТМ  \n",
       "4  Выдача наличных в АТМ  "
      ]
     },
     "execution_count": 7,
     "metadata": {},
     "output_type": "execute_result"
    }
   ],
   "source": [
    "df2 = pd.merge(df1,types, on='type', how='inner') # we joined table df1 with table types by column 'type'\n",
    "df2.head()"
   ]
  },
  {
   "cell_type": "code",
   "execution_count": 8,
   "metadata": {},
   "outputs": [
    {
     "data": {
      "text/html": [
       "<div>\n",
       "<style scoped>\n",
       "    .dataframe tbody tr th:only-of-type {\n",
       "        vertical-align: middle;\n",
       "    }\n",
       "\n",
       "    .dataframe tbody tr th {\n",
       "        vertical-align: top;\n",
       "    }\n",
       "\n",
       "    .dataframe thead th {\n",
       "        text-align: right;\n",
       "    }\n",
       "</style>\n",
       "<table border=\"1\" class=\"dataframe\">\n",
       "  <thead>\n",
       "    <tr style=\"text-align: right;\">\n",
       "      <th></th>\n",
       "      <th>client_id</th>\n",
       "      <th>datetime</th>\n",
       "      <th>code</th>\n",
       "      <th>type</th>\n",
       "      <th>sum</th>\n",
       "      <th>target</th>\n",
       "      <th>type_description</th>\n",
       "      <th>code_description</th>\n",
       "    </tr>\n",
       "  </thead>\n",
       "  <tbody>\n",
       "    <tr>\n",
       "      <th>0</th>\n",
       "      <td>96372458</td>\n",
       "      <td>421 06:33:15</td>\n",
       "      <td>6011</td>\n",
       "      <td>2010</td>\n",
       "      <td>-561478.94</td>\n",
       "      <td>0</td>\n",
       "      <td>Выдача наличных в АТМ</td>\n",
       "      <td>Финансовые институты — снятие наличности автом...</td>\n",
       "    </tr>\n",
       "    <tr>\n",
       "      <th>1</th>\n",
       "      <td>96372458</td>\n",
       "      <td>68 02:04:11</td>\n",
       "      <td>6011</td>\n",
       "      <td>2010</td>\n",
       "      <td>-426724.00</td>\n",
       "      <td>0</td>\n",
       "      <td>Выдача наличных в АТМ</td>\n",
       "      <td>Финансовые институты — снятие наличности автом...</td>\n",
       "    </tr>\n",
       "    <tr>\n",
       "      <th>2</th>\n",
       "      <td>96372458</td>\n",
       "      <td>433 06:45:32</td>\n",
       "      <td>6011</td>\n",
       "      <td>2010</td>\n",
       "      <td>-112295.79</td>\n",
       "      <td>0</td>\n",
       "      <td>Выдача наличных в АТМ</td>\n",
       "      <td>Финансовые институты — снятие наличности автом...</td>\n",
       "    </tr>\n",
       "    <tr>\n",
       "      <th>3</th>\n",
       "      <td>21717441</td>\n",
       "      <td>55 13:38:47</td>\n",
       "      <td>6011</td>\n",
       "      <td>2010</td>\n",
       "      <td>-44918.32</td>\n",
       "      <td>0</td>\n",
       "      <td>Выдача наличных в АТМ</td>\n",
       "      <td>Финансовые институты — снятие наличности автом...</td>\n",
       "    </tr>\n",
       "    <tr>\n",
       "      <th>4</th>\n",
       "      <td>21717441</td>\n",
       "      <td>294 13:27:44</td>\n",
       "      <td>6011</td>\n",
       "      <td>2010</td>\n",
       "      <td>-898366.31</td>\n",
       "      <td>0</td>\n",
       "      <td>Выдача наличных в АТМ</td>\n",
       "      <td>Финансовые институты — снятие наличности автом...</td>\n",
       "    </tr>\n",
       "    <tr>\n",
       "      <th>...</th>\n",
       "      <td>...</td>\n",
       "      <td>...</td>\n",
       "      <td>...</td>\n",
       "      <td>...</td>\n",
       "      <td>...</td>\n",
       "      <td>...</td>\n",
       "      <td>...</td>\n",
       "      <td>...</td>\n",
       "    </tr>\n",
       "    <tr>\n",
       "      <th>91795</th>\n",
       "      <td>38977682</td>\n",
       "      <td>286 00:00:00</td>\n",
       "      <td>3351</td>\n",
       "      <td>1200</td>\n",
       "      <td>-56332.06</td>\n",
       "      <td>1</td>\n",
       "      <td>Покупка. Зарубеж.</td>\n",
       "      <td>Агентства по аренде автомобилей</td>\n",
       "    </tr>\n",
       "    <tr>\n",
       "      <th>91796</th>\n",
       "      <td>61978280</td>\n",
       "      <td>401 00:00:00</td>\n",
       "      <td>5169</td>\n",
       "      <td>1200</td>\n",
       "      <td>-271194.78</td>\n",
       "      <td>1</td>\n",
       "      <td>Покупка. Зарубеж.</td>\n",
       "      <td>Химикалии и смежные вещества, не классифициров...</td>\n",
       "    </tr>\n",
       "    <tr>\n",
       "      <th>91797</th>\n",
       "      <td>97803699</td>\n",
       "      <td>371 19:47:00</td>\n",
       "      <td>6513</td>\n",
       "      <td>1210</td>\n",
       "      <td>-60792.00</td>\n",
       "      <td>0</td>\n",
       "      <td>Покупка. POS  Зарубеж.</td>\n",
       "      <td>Агенты и менеджеры по аренде недвижимости</td>\n",
       "    </tr>\n",
       "    <tr>\n",
       "      <th>91798</th>\n",
       "      <td>31009144</td>\n",
       "      <td>81 17:32:60</td>\n",
       "      <td>4411</td>\n",
       "      <td>1210</td>\n",
       "      <td>-904166.84</td>\n",
       "      <td>0</td>\n",
       "      <td>Покупка. POS  Зарубеж.</td>\n",
       "      <td>Круизные линии</td>\n",
       "    </tr>\n",
       "    <tr>\n",
       "      <th>91799</th>\n",
       "      <td>63953233</td>\n",
       "      <td>15 00:00:00</td>\n",
       "      <td>4411</td>\n",
       "      <td>1210</td>\n",
       "      <td>-77535.30</td>\n",
       "      <td>0</td>\n",
       "      <td>Покупка. POS  Зарубеж.</td>\n",
       "      <td>Круизные линии</td>\n",
       "    </tr>\n",
       "  </tbody>\n",
       "</table>\n",
       "<p>91800 rows × 8 columns</p>\n",
       "</div>"
      ],
      "text/plain": [
       "       client_id      datetime  code  type        sum  target  \\\n",
       "0       96372458  421 06:33:15  6011  2010 -561478.94       0   \n",
       "1       96372458   68 02:04:11  6011  2010 -426724.00       0   \n",
       "2       96372458  433 06:45:32  6011  2010 -112295.79       0   \n",
       "3       21717441   55 13:38:47  6011  2010  -44918.32       0   \n",
       "4       21717441  294 13:27:44  6011  2010 -898366.31       0   \n",
       "...          ...           ...   ...   ...        ...     ...   \n",
       "91795   38977682  286 00:00:00  3351  1200  -56332.06       1   \n",
       "91796   61978280  401 00:00:00  5169  1200 -271194.78       1   \n",
       "91797   97803699  371 19:47:00  6513  1210  -60792.00       0   \n",
       "91798   31009144   81 17:32:60  4411  1210 -904166.84       0   \n",
       "91799   63953233   15 00:00:00  4411  1210  -77535.30       0   \n",
       "\n",
       "             type_description  \\\n",
       "0       Выдача наличных в АТМ   \n",
       "1       Выдача наличных в АТМ   \n",
       "2       Выдача наличных в АТМ   \n",
       "3       Выдача наличных в АТМ   \n",
       "4       Выдача наличных в АТМ   \n",
       "...                       ...   \n",
       "91795      Покупка. Зарубеж.    \n",
       "91796      Покупка. Зарубеж.    \n",
       "91797  Покупка. POS  Зарубеж.   \n",
       "91798  Покупка. POS  Зарубеж.   \n",
       "91799  Покупка. POS  Зарубеж.   \n",
       "\n",
       "                                        code_description  \n",
       "0      Финансовые институты — снятие наличности автом...  \n",
       "1      Финансовые институты — снятие наличности автом...  \n",
       "2      Финансовые институты — снятие наличности автом...  \n",
       "3      Финансовые институты — снятие наличности автом...  \n",
       "4      Финансовые институты — снятие наличности автом...  \n",
       "...                                                  ...  \n",
       "91795                    Агентства по аренде автомобилей  \n",
       "91796  Химикалии и смежные вещества, не классифициров...  \n",
       "91797          Агенты и менеджеры по аренде недвижимости  \n",
       "91798                                     Круизные линии  \n",
       "91799                                     Круизные линии  \n",
       "\n",
       "[91800 rows x 8 columns]"
      ]
     },
     "execution_count": 8,
     "metadata": {},
     "output_type": "execute_result"
    }
   ],
   "source": [
    "df = pd.merge(df2, codes, on='code', how='inner')# we joined table df2 with table codes by column 'code'\n",
    "df"
   ]
  },
  {
   "cell_type": "markdown",
   "metadata": {},
   "source": [
    "# I. Explore the dataset. Do the descriptive statistics.\n"
   ]
  },
  {
   "cell_type": "code",
   "execution_count": 9,
   "metadata": {},
   "outputs": [
    {
     "data": {
      "text/plain": [
       "(91800, 8)"
      ]
     },
     "execution_count": 9,
     "metadata": {},
     "output_type": "execute_result"
    }
   ],
   "source": [
    "df.shape"
   ]
  },
  {
   "cell_type": "code",
   "execution_count": 10,
   "metadata": {},
   "outputs": [
    {
     "data": {
      "text/plain": [
       "Index(['client_id', 'datetime', 'code', 'type', 'sum', 'target',\n",
       "       'type_description', 'code_description'],\n",
       "      dtype='object')"
      ]
     },
     "execution_count": 10,
     "metadata": {},
     "output_type": "execute_result"
    }
   ],
   "source": [
    "df.columns"
   ]
  },
  {
   "cell_type": "code",
   "execution_count": 11,
   "metadata": {},
   "outputs": [
    {
     "data": {
      "text/plain": [
       "client_id            6000\n",
       "datetime            81491\n",
       "code                  173\n",
       "type                   58\n",
       "sum                 20856\n",
       "target                  2\n",
       "type_description       53\n",
       "code_description      173\n",
       "dtype: int64"
      ]
     },
     "execution_count": 11,
     "metadata": {},
     "output_type": "execute_result"
    }
   ],
   "source": [
    "df.nunique()"
   ]
  },
  {
   "cell_type": "code",
   "execution_count": 12,
   "metadata": {},
   "outputs": [
    {
     "data": {
      "text/plain": [
       "36"
      ]
     },
     "execution_count": 12,
     "metadata": {},
     "output_type": "execute_result"
    }
   ],
   "source": [
    "df.duplicated(keep=False).sum()"
   ]
  },
  {
   "cell_type": "code",
   "execution_count": 13,
   "metadata": {},
   "outputs": [
    {
     "data": {
      "text/html": [
       "<div>\n",
       "<style scoped>\n",
       "    .dataframe tbody tr th:only-of-type {\n",
       "        vertical-align: middle;\n",
       "    }\n",
       "\n",
       "    .dataframe tbody tr th {\n",
       "        vertical-align: top;\n",
       "    }\n",
       "\n",
       "    .dataframe thead th {\n",
       "        text-align: right;\n",
       "    }\n",
       "</style>\n",
       "<table border=\"1\" class=\"dataframe\">\n",
       "  <thead>\n",
       "    <tr style=\"text-align: right;\">\n",
       "      <th></th>\n",
       "      <th>client_id</th>\n",
       "      <th>datetime</th>\n",
       "      <th>code</th>\n",
       "      <th>type</th>\n",
       "      <th>sum</th>\n",
       "      <th>target</th>\n",
       "      <th>type_description</th>\n",
       "      <th>code_description</th>\n",
       "    </tr>\n",
       "  </thead>\n",
       "  <tbody>\n",
       "    <tr>\n",
       "      <th>0</th>\n",
       "      <td>96372458</td>\n",
       "      <td>421 06:33:15</td>\n",
       "      <td>6011</td>\n",
       "      <td>2010</td>\n",
       "      <td>-561478.94</td>\n",
       "      <td>0</td>\n",
       "      <td>Выдача наличных в АТМ</td>\n",
       "      <td>Финансовые институты — снятие наличности автом...</td>\n",
       "    </tr>\n",
       "    <tr>\n",
       "      <th>1</th>\n",
       "      <td>96372458</td>\n",
       "      <td>68 02:04:11</td>\n",
       "      <td>6011</td>\n",
       "      <td>2010</td>\n",
       "      <td>-426724.00</td>\n",
       "      <td>0</td>\n",
       "      <td>Выдача наличных в АТМ</td>\n",
       "      <td>Финансовые институты — снятие наличности автом...</td>\n",
       "    </tr>\n",
       "    <tr>\n",
       "      <th>2</th>\n",
       "      <td>96372458</td>\n",
       "      <td>433 06:45:32</td>\n",
       "      <td>6011</td>\n",
       "      <td>2010</td>\n",
       "      <td>-112295.79</td>\n",
       "      <td>0</td>\n",
       "      <td>Выдача наличных в АТМ</td>\n",
       "      <td>Финансовые институты — снятие наличности автом...</td>\n",
       "    </tr>\n",
       "    <tr>\n",
       "      <th>3</th>\n",
       "      <td>21717441</td>\n",
       "      <td>55 13:38:47</td>\n",
       "      <td>6011</td>\n",
       "      <td>2010</td>\n",
       "      <td>-44918.32</td>\n",
       "      <td>0</td>\n",
       "      <td>Выдача наличных в АТМ</td>\n",
       "      <td>Финансовые институты — снятие наличности автом...</td>\n",
       "    </tr>\n",
       "    <tr>\n",
       "      <th>4</th>\n",
       "      <td>21717441</td>\n",
       "      <td>294 13:27:44</td>\n",
       "      <td>6011</td>\n",
       "      <td>2010</td>\n",
       "      <td>-898366.31</td>\n",
       "      <td>0</td>\n",
       "      <td>Выдача наличных в АТМ</td>\n",
       "      <td>Финансовые институты — снятие наличности автом...</td>\n",
       "    </tr>\n",
       "    <tr>\n",
       "      <th>...</th>\n",
       "      <td>...</td>\n",
       "      <td>...</td>\n",
       "      <td>...</td>\n",
       "      <td>...</td>\n",
       "      <td>...</td>\n",
       "      <td>...</td>\n",
       "      <td>...</td>\n",
       "      <td>...</td>\n",
       "    </tr>\n",
       "    <tr>\n",
       "      <th>91795</th>\n",
       "      <td>38977682</td>\n",
       "      <td>286 00:00:00</td>\n",
       "      <td>3351</td>\n",
       "      <td>1200</td>\n",
       "      <td>-56332.06</td>\n",
       "      <td>1</td>\n",
       "      <td>Покупка. Зарубеж.</td>\n",
       "      <td>Агентства по аренде автомобилей</td>\n",
       "    </tr>\n",
       "    <tr>\n",
       "      <th>91796</th>\n",
       "      <td>61978280</td>\n",
       "      <td>401 00:00:00</td>\n",
       "      <td>5169</td>\n",
       "      <td>1200</td>\n",
       "      <td>-271194.78</td>\n",
       "      <td>1</td>\n",
       "      <td>Покупка. Зарубеж.</td>\n",
       "      <td>Химикалии и смежные вещества, не классифициров...</td>\n",
       "    </tr>\n",
       "    <tr>\n",
       "      <th>91797</th>\n",
       "      <td>97803699</td>\n",
       "      <td>371 19:47:00</td>\n",
       "      <td>6513</td>\n",
       "      <td>1210</td>\n",
       "      <td>-60792.00</td>\n",
       "      <td>0</td>\n",
       "      <td>Покупка. POS  Зарубеж.</td>\n",
       "      <td>Агенты и менеджеры по аренде недвижимости</td>\n",
       "    </tr>\n",
       "    <tr>\n",
       "      <th>91798</th>\n",
       "      <td>31009144</td>\n",
       "      <td>81 17:32:60</td>\n",
       "      <td>4411</td>\n",
       "      <td>1210</td>\n",
       "      <td>-904166.84</td>\n",
       "      <td>0</td>\n",
       "      <td>Покупка. POS  Зарубеж.</td>\n",
       "      <td>Круизные линии</td>\n",
       "    </tr>\n",
       "    <tr>\n",
       "      <th>91799</th>\n",
       "      <td>63953233</td>\n",
       "      <td>15 00:00:00</td>\n",
       "      <td>4411</td>\n",
       "      <td>1210</td>\n",
       "      <td>-77535.30</td>\n",
       "      <td>0</td>\n",
       "      <td>Покупка. POS  Зарубеж.</td>\n",
       "      <td>Круизные линии</td>\n",
       "    </tr>\n",
       "  </tbody>\n",
       "</table>\n",
       "<p>91781 rows × 8 columns</p>\n",
       "</div>"
      ],
      "text/plain": [
       "       client_id      datetime  code  type        sum  target  \\\n",
       "0       96372458  421 06:33:15  6011  2010 -561478.94       0   \n",
       "1       96372458   68 02:04:11  6011  2010 -426724.00       0   \n",
       "2       96372458  433 06:45:32  6011  2010 -112295.79       0   \n",
       "3       21717441   55 13:38:47  6011  2010  -44918.32       0   \n",
       "4       21717441  294 13:27:44  6011  2010 -898366.31       0   \n",
       "...          ...           ...   ...   ...        ...     ...   \n",
       "91795   38977682  286 00:00:00  3351  1200  -56332.06       1   \n",
       "91796   61978280  401 00:00:00  5169  1200 -271194.78       1   \n",
       "91797   97803699  371 19:47:00  6513  1210  -60792.00       0   \n",
       "91798   31009144   81 17:32:60  4411  1210 -904166.84       0   \n",
       "91799   63953233   15 00:00:00  4411  1210  -77535.30       0   \n",
       "\n",
       "             type_description  \\\n",
       "0       Выдача наличных в АТМ   \n",
       "1       Выдача наличных в АТМ   \n",
       "2       Выдача наличных в АТМ   \n",
       "3       Выдача наличных в АТМ   \n",
       "4       Выдача наличных в АТМ   \n",
       "...                       ...   \n",
       "91795      Покупка. Зарубеж.    \n",
       "91796      Покупка. Зарубеж.    \n",
       "91797  Покупка. POS  Зарубеж.   \n",
       "91798  Покупка. POS  Зарубеж.   \n",
       "91799  Покупка. POS  Зарубеж.   \n",
       "\n",
       "                                        code_description  \n",
       "0      Финансовые институты — снятие наличности автом...  \n",
       "1      Финансовые институты — снятие наличности автом...  \n",
       "2      Финансовые институты — снятие наличности автом...  \n",
       "3      Финансовые институты — снятие наличности автом...  \n",
       "4      Финансовые институты — снятие наличности автом...  \n",
       "...                                                  ...  \n",
       "91795                    Агентства по аренде автомобилей  \n",
       "91796  Химикалии и смежные вещества, не классифициров...  \n",
       "91797          Агенты и менеджеры по аренде недвижимости  \n",
       "91798                                     Круизные линии  \n",
       "91799                                     Круизные линии  \n",
       "\n",
       "[91781 rows x 8 columns]"
      ]
     },
     "execution_count": 13,
     "metadata": {},
     "output_type": "execute_result"
    }
   ],
   "source": [
    "df = df.drop_duplicates(keep=\"first\")\n",
    "df"
   ]
  },
  {
   "cell_type": "code",
   "execution_count": 14,
   "metadata": {},
   "outputs": [
    {
     "data": {
      "text/html": [
       "<div>\n",
       "<style scoped>\n",
       "    .dataframe tbody tr th:only-of-type {\n",
       "        vertical-align: middle;\n",
       "    }\n",
       "\n",
       "    .dataframe tbody tr th {\n",
       "        vertical-align: top;\n",
       "    }\n",
       "\n",
       "    .dataframe thead th {\n",
       "        text-align: right;\n",
       "    }\n",
       "</style>\n",
       "<table border=\"1\" class=\"dataframe\">\n",
       "  <thead>\n",
       "    <tr style=\"text-align: right;\">\n",
       "      <th></th>\n",
       "      <th>count</th>\n",
       "      <th>mean</th>\n",
       "      <th>std</th>\n",
       "      <th>min</th>\n",
       "      <th>25%</th>\n",
       "      <th>50%</th>\n",
       "      <th>75%</th>\n",
       "      <th>max</th>\n",
       "    </tr>\n",
       "  </thead>\n",
       "  <tbody>\n",
       "    <tr>\n",
       "      <th>client_id</th>\n",
       "      <td>91781.0</td>\n",
       "      <td>5.169316e+07</td>\n",
       "      <td>2.840042e+07</td>\n",
       "      <td>22899.00</td>\n",
       "      <td>27312913.00</td>\n",
       "      <td>53883700.00</td>\n",
       "      <td>75521890.00</td>\n",
       "      <td>99991245.00</td>\n",
       "    </tr>\n",
       "    <tr>\n",
       "      <th>code</th>\n",
       "      <td>91781.0</td>\n",
       "      <td>5.596175e+03</td>\n",
       "      <td>6.018742e+02</td>\n",
       "      <td>742.00</td>\n",
       "      <td>5251.00</td>\n",
       "      <td>5661.00</td>\n",
       "      <td>6010.00</td>\n",
       "      <td>9402.00</td>\n",
       "    </tr>\n",
       "    <tr>\n",
       "      <th>type</th>\n",
       "      <td>91781.0</td>\n",
       "      <td>2.549410e+03</td>\n",
       "      <td>2.295791e+03</td>\n",
       "      <td>1010.00</td>\n",
       "      <td>1030.00</td>\n",
       "      <td>1110.00</td>\n",
       "      <td>2370.00</td>\n",
       "      <td>8145.00</td>\n",
       "    </tr>\n",
       "    <tr>\n",
       "      <th>sum</th>\n",
       "      <td>91781.0</td>\n",
       "      <td>-1.663292e+04</td>\n",
       "      <td>6.233658e+05</td>\n",
       "      <td>-41500301.14</td>\n",
       "      <td>-21560.79</td>\n",
       "      <td>-5232.98</td>\n",
       "      <td>-1122.96</td>\n",
       "      <td>67377473.16</td>\n",
       "    </tr>\n",
       "    <tr>\n",
       "      <th>target</th>\n",
       "      <td>91781.0</td>\n",
       "      <td>4.911474e-01</td>\n",
       "      <td>4.999243e-01</td>\n",
       "      <td>0.00</td>\n",
       "      <td>0.00</td>\n",
       "      <td>0.00</td>\n",
       "      <td>1.00</td>\n",
       "      <td>1.00</td>\n",
       "    </tr>\n",
       "  </tbody>\n",
       "</table>\n",
       "</div>"
      ],
      "text/plain": [
       "             count          mean           std          min          25%  \\\n",
       "client_id  91781.0  5.169316e+07  2.840042e+07     22899.00  27312913.00   \n",
       "code       91781.0  5.596175e+03  6.018742e+02       742.00      5251.00   \n",
       "type       91781.0  2.549410e+03  2.295791e+03      1010.00      1030.00   \n",
       "sum        91781.0 -1.663292e+04  6.233658e+05 -41500301.14    -21560.79   \n",
       "target     91781.0  4.911474e-01  4.999243e-01         0.00         0.00   \n",
       "\n",
       "                   50%          75%          max  \n",
       "client_id  53883700.00  75521890.00  99991245.00  \n",
       "code           5661.00      6010.00      9402.00  \n",
       "type           1110.00      2370.00      8145.00  \n",
       "sum           -5232.98     -1122.96  67377473.16  \n",
       "target            0.00         1.00         1.00  "
      ]
     },
     "execution_count": 14,
     "metadata": {},
     "output_type": "execute_result"
    }
   ],
   "source": [
    "df.describe().T"
   ]
  },
  {
   "cell_type": "code",
   "execution_count": 15,
   "metadata": {},
   "outputs": [
    {
     "name": "stdout",
     "output_type": "stream",
     "text": [
      "<class 'pandas.core.frame.DataFrame'>\n",
      "Int64Index: 91781 entries, 0 to 91799\n",
      "Data columns (total 8 columns):\n",
      " #   Column            Non-Null Count  Dtype  \n",
      "---  ------            --------------  -----  \n",
      " 0   client_id         91781 non-null  int64  \n",
      " 1   datetime          91781 non-null  object \n",
      " 2   code              91781 non-null  int64  \n",
      " 3   type              91781 non-null  int64  \n",
      " 4   sum               91781 non-null  float64\n",
      " 5   target            91781 non-null  int64  \n",
      " 6   type_description  91781 non-null  object \n",
      " 7   code_description  91781 non-null  object \n",
      "dtypes: float64(1), int64(4), object(3)\n",
      "memory usage: 6.3+ MB\n"
     ]
    }
   ],
   "source": [
    "df.info()"
   ]
  },
  {
   "cell_type": "code",
   "execution_count": 16,
   "metadata": {},
   "outputs": [
    {
     "data": {
      "text/plain": [
       "client_id           False\n",
       "datetime            False\n",
       "code                False\n",
       "type                False\n",
       "sum                 False\n",
       "target              False\n",
       "type_description    False\n",
       "code_description    False\n",
       "dtype: bool"
      ]
     },
     "execution_count": 16,
     "metadata": {},
     "output_type": "execute_result"
    }
   ],
   "source": [
    "df.isna().any()"
   ]
  },
  {
   "cell_type": "code",
   "execution_count": 17,
   "metadata": {},
   "outputs": [
    {
     "name": "stdout",
     "output_type": "stream",
     "text": [
      "Number of dublicated rows in types:  0\n"
     ]
    }
   ],
   "source": [
    "print('Number of dublicated rows in types: ', df.duplicated(keep=False).sum() )"
   ]
  },
  {
   "cell_type": "code",
   "execution_count": 18,
   "metadata": {},
   "outputs": [
    {
     "data": {
      "text/plain": [
       "108877774.3"
      ]
     },
     "execution_count": 18,
     "metadata": {},
     "output_type": "execute_result"
    }
   ],
   "source": [
    "max(df['sum'])-min(df['sum']) #Measures of spread"
   ]
  },
  {
   "cell_type": "code",
   "execution_count": 19,
   "metadata": {},
   "outputs": [
    {
     "data": {
      "text/plain": [
       "20437.83"
      ]
     },
     "execution_count": 19,
     "metadata": {},
     "output_type": "execute_result"
    }
   ],
   "source": [
    "df['sum'].quantile(0.75)-df['sum'].quantile(0.25) #IQR"
   ]
  },
  {
   "cell_type": "code",
   "execution_count": 20,
   "metadata": {},
   "outputs": [
    {
     "data": {
      "text/plain": [
       "388584930106.0205"
      ]
     },
     "execution_count": 20,
     "metadata": {},
     "output_type": "execute_result"
    }
   ],
   "source": [
    "df['sum'].var() #variance"
   ]
  },
  {
   "cell_type": "code",
   "execution_count": 21,
   "metadata": {},
   "outputs": [
    {
     "data": {
      "text/plain": [
       "623365.8076170208"
      ]
     },
     "execution_count": 21,
     "metadata": {},
     "output_type": "execute_result"
    }
   ],
   "source": [
    " df['sum'].std()"
   ]
  },
  {
   "cell_type": "markdown",
   "metadata": {},
   "source": [
    "# II. Explanatory data analysis. Exploring the features, visualizations etc."
   ]
  },
  {
   "cell_type": "markdown",
   "metadata": {},
   "source": [
    "Check for balance of our target value\n",
    "\n",
    "We can see that there is not much difference between them"
   ]
  },
  {
   "cell_type": "code",
   "execution_count": 22,
   "metadata": {
    "scrolled": true
   },
   "outputs": [
    {
     "data": {
      "text/plain": [
       "Text(0.5, 1.0, 'Count of target variables')"
      ]
     },
     "execution_count": 22,
     "metadata": {},
     "output_type": "execute_result"
    },
    {
     "data": {
      "image/png": "[encoded data removed]",
      "text/plain": [
       "<Figure size 432x288 with 1 Axes>"
      ]
     },
     "metadata": {
      "needs_background": "light"
     },
     "output_type": "display_data"
    }
   ],
   "source": [
    "df.target.value_counts().plot(kind = 'bar')\n",
    "plt.title(\"Count of target variables\")"
   ]
  },
  {
   "cell_type": "markdown",
   "metadata": {},
   "source": [
    "Distribution of out client's sum"
   ]
  },
  {
   "cell_type": "code",
   "execution_count": 23,
   "metadata": {
    "scrolled": false
   },
   "outputs": [
    {
     "data": {
      "text/plain": [
       "Text(0.5, 1.0, 'Transaction sum of clients')"
      ]
     },
     "execution_count": 23,
     "metadata": {},
     "output_type": "execute_result"
    },
    {
     "data": {
      "image/png": "[encoded data removed]",
      "text/plain": [
       "<Figure size 432x288 with 1 Axes>"
      ]
     },
     "metadata": {
      "needs_background": "light"
     },
     "output_type": "display_data"
    }
   ],
   "source": [
    "df.groupby(\"client_id\")['sum'].agg(sum).plot()\n",
    "plt.title(\"Transaction sum of clients\")"
   ]
  },
  {
   "cell_type": "markdown",
   "metadata": {},
   "source": [
    "We may notice a sharp jump at this point.\n",
    "\n",
    "It means that we don't have many outliers. And we can see that on the boxplot"
   ]
  },
  {
   "cell_type": "code",
   "execution_count": 25,
   "metadata": {},
   "outputs": [
    {
     "data": {
      "image/png": "[encoded data removed]",
      "text/plain": [
       "<Figure size 432x288 with 1 Axes>"
      ]
     },
     "metadata": {
      "needs_background": "light"
     },
     "output_type": "display_data"
    }
   ],
   "source": [
    "df.boxplot(column=['sum'])\n",
    "plt.show()"
   ]
  },
  {
   "cell_type": "code",
   "execution_count": 26,
   "metadata": {},
   "outputs": [
    {
     "data": {
      "image/png": "[encoded data removed]",
      "text/plain": [
       "<Figure size 432x288 with 1 Axes>"
      ]
     },
     "metadata": {},
     "output_type": "display_data"
    }
   ],
   "source": [
    "explode=(0,0.1,0.1,0.1,0.1)\n",
    "labels= [x for x in df[\"type_description\"].value_counts().sort_values(ascending=False)[0:5].index] # piechart for only top 5 industry\n",
    "colors = ['yellow', 'tomato', 'royalblue', 'lime', 'darkviolet']\n",
    "\n",
    "patches,ax,text= plt.pie(df[\"type_description\"].value_counts().sort_values(ascending=False)[0:5],autopct=\"%0.0f%%\", colors = colors, explode=explode,shadow=True,startangle=305)\n",
    "plt.title('\\n Top 5 most common types \\n', size=16, color='red')\n",
    "plt.legend(patches, labels, loc=\"best\")\n",
    "plt.axis('equal')\n",
    "plt.show()"
   ]
  },
  {
   "cell_type": "code",
   "execution_count": 27,
   "metadata": {},
   "outputs": [
    {
     "name": "stderr",
     "output_type": "stream",
     "text": [
      "D:\\Anaconda\\lib\\site-packages\\pandas\\core\\series.py:4509: SettingWithCopyWarning: \n",
      "A value is trying to be set on a copy of a slice from a DataFrame\n",
      "\n",
      "See the caveats in the documentation: https://pandas.pydata.org/pandas-docs/stable/user_guide/indexing.html#returning-a-view-versus-a-copy\n",
      "  return super().replace(\n"
     ]
    },
    {
     "data": {
      "image/png": "[encoded data removed]",
      "text/plain": [
       "<Figure size 432x288 with 1 Axes>"
      ]
     },
     "metadata": {
      "needs_background": "light"
     },
     "output_type": "display_data"
    }
   ],
   "source": [
    "from IPython.core.pylabtools import figsize\n",
    "df[\"code_description\"].replace({\"Различные продовольственные магазины — рынки, магазины со спец-ассортиментом, продажа полуфабрикатов, фирменных блюд, продажа с помощью торговых автоматов\": \"Различные продовольственные магазины\"}, inplace=True)\n",
    "fig, ax = plt.subplots(nrows=1, ncols=1)\n",
    "a = sns.barplot(x= df[\"code_description\"].value_counts().sort_values(ascending=False).head(10) ,y= df[\"code_description\"].value_counts().sort_values(ascending=False).head(10).index)\n",
    "sns.despine(bottom = False, left = False)\n",
    "import matplotlib\n",
    "from matplotlib import rcParams\n",
    "spots = df[\"code_description\"].value_counts().sort_values(ascending=False).index[0:10]\n",
    "for p in ax.patches:\n",
    "    ax.text(p.get_x() + 0.2, p.get_height()+0.5, '{:.2f}%'.format((p.get_height()/742)*100))\n",
    "plt.title('\\n Top 10 most common codes \\n', size=23, color='red')\n",
    "plt.xticks(fontsize=13,rotation=90)\n",
    "plt.yticks(fontsize=12)\n",
    "plt.xlabel('\\n Code \\n', fontsize=20, color='black')\n",
    "plt.ylabel('\\n Count \\n', fontsize=20, color='black')\n",
    "plt.show()"
   ]
  },
  {
   "cell_type": "code",
   "execution_count": 28,
   "metadata": {
    "scrolled": true
   },
   "outputs": [
    {
     "data": {
      "image/png": "[encoded data removed]",
      "text/plain": [
       "<Figure size 432x288 with 1 Axes>"
      ]
     },
     "metadata": {},
     "output_type": "display_data"
    }
   ],
   "source": [
    "x = df['target'].value_counts()\n",
    "labels = [\"male\", \"female\"]\n",
    "explode = [0.1, 0]\n",
    "colors = ['royalblue', 'deeppink']\n",
    "plt.pie(x, labels = labels, startangle = 90, explode = explode, shadow = True, autopct='%.2f%%', colors = colors);\n",
    "plt.legend(title = \"Gender:\")\n",
    "plt.show()"
   ]
  },
  {
   "cell_type": "markdown",
   "metadata": {},
   "source": [
    "### As we can see, there are more men than women"
   ]
  },
  {
   "cell_type": "code",
   "execution_count": 29,
   "metadata": {},
   "outputs": [
    {
     "name": "stdout",
     "output_type": "stream",
     "text": [
      "Покупка. POS                                                                                             33700\n",
      "Выдача наличных в АТМ                                                                                    14135\n",
      "Оплата услуги. Банкоматы                                                                                 12848\n",
      "Перевод на карту (с карты) через Мобильный банк (без взимания комиссии с отправителя)                     9808\n",
      "Списание с карты на карту по операции <перевода с карты на карту> через Мобильный банк (без комиссии)     4788\n",
      "Взнос наличных через АТМ (в своем тер.банке)                                                              3529\n",
      "Перевод на карту (с карты) через АТМ (в пределах одного тер.банка)                                        2092\n",
      "Покупка.                                                                                                  1488\n",
      "Покупка. Зарубеж.                                                                                         1243\n",
      "Перевод на карту (с карты) через Мобильный банк (с взиманием комиссии с отправителя)                      1236\n",
      "Списание с карты по операции “перевода с карты на карту” через АТМ (в пределах одного тер.банка)           943\n",
      "Списание с карты на карту по операции <перевода с карты на карту> через Мобильный банк (с комиссией)       908\n",
      "Плата за перевод на карту (с карты) через Мобильный банк                                                   887\n",
      "Выдача наличных в АТМ банка (в других ТБ)                                                                  782\n",
      "Плата за получение наличных в АТМ банка                                                                    416\n",
      "Name: type_description, dtype: int64\n"
     ]
    },
    {
     "data": {
      "image/png": "[encoded data removed]",
      "text/plain": [
       "<Figure size 864x432 with 1 Axes>"
      ]
     },
     "metadata": {
      "needs_background": "light"
     },
     "output_type": "display_data"
    }
   ],
   "source": [
    "print(df[\"type_description\"].value_counts()[:15])   # we counted the number of each type\n",
    "plt.figure(figsize=(12,6))\n",
    "sns.countplot(y='type_description',data = df,order =df[\"type_description\"].value_counts().index[0:15],palette=\"pastel\")\n",
    "plt.title(\"Top 10 tyoes of desctiption\",size=18)\n",
    "plt.show()"
   ]
  },
  {
   "cell_type": "code",
   "execution_count": 30,
   "metadata": {},
   "outputs": [
    {
     "name": "stdout",
     "output_type": "stream",
     "text": [
      "20437.83 29533.785000000003 -52217.535\n",
      "The following are the outliers in the boxplot:0        -561478.94\n",
      "1        -426724.00\n",
      "2        -112295.79\n",
      "4        -898366.31\n",
      "5       -1122957.89\n",
      "            ...    \n",
      "91795     -56332.06\n",
      "91796    -271194.78\n",
      "91797     -60792.00\n",
      "91798    -904166.84\n",
      "91799     -77535.30\n",
      "Name: sum, Length: 20209, dtype: float64\n"
     ]
    },
    {
     "data": {
      "image/png": "[encoded data removed]",
      "text/plain": [
       "<Figure size 864x504 with 1 Axes>"
      ]
     },
     "metadata": {
      "needs_background": "light"
     },
     "output_type": "display_data"
    }
   ],
   "source": [
    "med = np.median(df['sum'])\n",
    "iqr = (np.quantile(df['sum'], 0.75))-(np.quantile(df['sum'], 0.25))\n",
    "# finding the boundaries\n",
    "upper_bound = (np.quantile(df['sum'], 0.75))+(1.5*iqr)\n",
    "lower_bound = (np.quantile(df['sum'], 0.25))-(1.5*iqr)\n",
    "print(iqr, upper_bound, lower_bound)\n",
    "# finding the outliers\n",
    "outliers = df['sum'][(df['sum'] <= lower_bound) | (df['sum'] >= upper_bound)]\n",
    "print('The following are the outliers in the boxplot:{}'.format(outliers))\n",
    "# the data that are in this interval\n",
    "arr2 = df['sum'][(df['sum'] >= lower_bound) & (df['sum'] <= upper_bound)]\n",
    "# creating a boxplot\n",
    "plt.figure(figsize=(12, 7))\n",
    "plt.boxplot(arr2, vert=False)\n",
    "plt.show()"
   ]
  },
  {
   "cell_type": "code",
   "execution_count": 31,
   "metadata": {},
   "outputs": [
    {
     "data": {
      "text/plain": [
       "type_description\n",
       "Безналичный перевод денежных средств через POS                                                              68\n",
       "Взнос наличных через POS                                                                                   328\n",
       "Взнос наличных через POS (в своем ТБ) по счету в овердрафте                                                  2\n",
       "Взнос наличных через АТМ                                                                                   176\n",
       "Взнос наличных через АТМ (в других ТБ) по счету в овердрафте                                                 3\n",
       "Взнос наличных через АТМ (в своем ТБ) по счету в овердрафте                                                 24\n",
       "Взнос наличных через АТМ (в своем тер.банке)                                                              3529\n",
       "Возврат  покупки.                                                                                           26\n",
       "Возврат  покупки. POS                                                                                       25\n",
       "Возврат  покупки. Зарубеж.                                                                                  62\n",
       "Возврат покупки. POS                                                                                       279\n",
       "Возврат покупки.POS Зарубеж.                                                                                12\n",
       "Выдача наличных в АТМ                                                                                    14135\n",
       "Выдача наличных в АТМ банка (в других ТБ)                                                                  782\n",
       "Выдача наличных через POS банка                                                                            146\n",
       "Выдача наличных через POS банка (в других ТБ)                                                                4\n",
       "Зачисление до завершения претензионной работы                                                                1\n",
       "Наличные.   АТМ                                                                                            103\n",
       "Наличные.  АТМ Зарубеж. банк                                                                                41\n",
       "Оплата услуги. Банкоматы                                                                                 12848\n",
       "Перевод на карту (с карты) через POS (в пределах одного тер.банка)                                           1\n",
       "Перевод на карту (с карты) через POS (из одного ТБ в другой ТБ)                                              1\n",
       "Перевод на карту (с карты) через АТМ (в пределах одного тер.банка)                                        2092\n",
       "Перевод на карту (с карты) через АТМ (из одного ТБ в другой ТБ)                                            404\n",
       "Перевод на карту (с карты) через Мобильный банк (без взимания комиссии с отправителя)                     9808\n",
       "Перевод на карту (с карты) через Мобильный банк (с взиманием комиссии с отправителя)                      1236\n",
       "Перевод на карту/ с карты через АТМ (без взимания комиссии с отправителя) по счету в овердрафте              9\n",
       "Перевод на карту/ с карты через АТМ (со взиманием комиссии с отправителя) по счету в овердрафте              1\n",
       "Перевод с карты на карту в овердрафте через Мобильный банк (без взимания комиссии)                          23\n",
       "Перевод с карты на карту в овердрафте через Мобильный банк (со взиманием комиссии)                          13\n",
       "Плата за взнос наличных через POS (в другом тер.банке)                                                      15\n",
       "Плата за взнос наличных через АТМ (в другом тер.банке)                                                       6\n",
       "Плата за перевод на карту (с карты) через POS                                                                1\n",
       "Плата за перевод на карту (с карты) через АТМ (из одного ТБ в другой ТБ)                                   275\n",
       "Плата за перевод на карту (с карты) через Мобильный банк                                                   887\n",
       "Плата за получение наличных в АТМ банка                                                                    416\n",
       "Плата за получение наличных в АТМ банка (в других ТБ)                                                      160\n",
       "Плата за получение наличных в АТМ.                                                                         123\n",
       "Плата за получение наличных в АТМ. Зарубеж.                                                                 39\n",
       "Плата за получение наличных через POS в банке                                                                3\n",
       "Плата за получение наличных. Зарубеж.                                                                        1\n",
       "Плата за превыш.лимита                                                                                       5\n",
       "Покупка.                                                                                                  1488\n",
       "Покупка. POS                                                                                             33700\n",
       "Покупка. POS  Зарубеж.                                                                                     237\n",
       "Покупка. Зарубеж.                                                                                         1243\n",
       "Списание после проведения претензионной работы                                                               4\n",
       "Списание с карты на карту по операции <перевода с карты на карту> через Мобильный банк (без комиссии)     4788\n",
       "Списание с карты на карту по операции <перевода с карты на карту> через Мобильный банк (с комиссией)       908\n",
       "Списание с карты по операции “перевода с карты на карту” через POS (в пределах одного тер.банка)             3\n",
       "Списание с карты по операции “перевода с карты на карту” через АТМ (в пределах одного тер.банка)           943\n",
       "Списание с карты по операции “перевода с карты на карту” через АТМ (из одного ТБ в другой ТБ)              279\n",
       "н/д                                                                                                         75\n",
       "dtype: int64"
      ]
     },
     "execution_count": 31,
     "metadata": {},
     "output_type": "execute_result"
    }
   ],
   "source": [
    "df.groupby(\"type_description\").size()"
   ]
  },
  {
   "cell_type": "markdown",
   "metadata": {
    "id": "WJ8fHBIasOwL"
   },
   "source": [
    "## 4. Feature engineering. Encodings, generating the features from date-time, sum and from other columns."
   ]
  },
  {
   "cell_type": "markdown",
   "metadata": {},
   "source": [
    "The first thing we will use is Mutual Information\n",
    "\n",
    "Mutual information is much like correlation in the sense that it measures the relationship between two quantities. The advantage of mutual information is that it can detect any kind of relationships, while correlation detects only linear relationships."
   ]
  },
  {
   "cell_type": "code",
   "execution_count": 32,
   "metadata": {},
   "outputs": [
    {
     "data": {
      "text/plain": [
       "(91781, 8)"
      ]
     },
     "execution_count": 32,
     "metadata": {},
     "output_type": "execute_result"
    }
   ],
   "source": [
    "df.shape"
   ]
  },
  {
   "cell_type": "markdown",
   "metadata": {},
   "source": [
    "Through the df.shape function, we see the number of rows in our data is 91781. But if you notice, there are empty cells in the type_description column. They are designated as \"н/д\".\n",
    "\n",
    "For our further actions, we need to get rid of them. To do this, we will use the drop() function."
   ]
  },
  {
   "cell_type": "code",
   "execution_count": 33,
   "metadata": {},
   "outputs": [
    {
     "name": "stderr",
     "output_type": "stream",
     "text": [
      "D:\\Anaconda\\lib\\site-packages\\pandas\\core\\frame.py:4308: SettingWithCopyWarning: \n",
      "A value is trying to be set on a copy of a slice from a DataFrame\n",
      "\n",
      "See the caveats in the documentation: https://pandas.pydata.org/pandas-docs/stable/user_guide/indexing.html#returning-a-view-versus-a-copy\n",
      "  return super().drop(\n"
     ]
    },
    {
     "data": {
      "text/plain": [
       "(91706, 8)"
      ]
     },
     "execution_count": 33,
     "metadata": {},
     "output_type": "execute_result"
    }
   ],
   "source": [
    "df.drop(df[df.type_description == 'н/д'].index, inplace=True)\n",
    "df.shape"
   ]
  },
  {
   "cell_type": "code",
   "execution_count": 34,
   "metadata": {},
   "outputs": [],
   "source": [
    "X = df.copy()\n",
    "y = X.pop(\"sum\")\n",
    "\n",
    "# Label encoding for categoricals\n",
    "for colname in X.select_dtypes(\"object\"):\n",
    "    X[colname], _ = X[colname].factorize()\n",
    "\n",
    "# All discrete features should now have integer dtypes (double-check this before using MI!)\n",
    "discrete_features = X.dtypes == int"
   ]
  },
  {
   "cell_type": "markdown",
   "metadata": {},
   "source": [
    "Scikit-learn has two mutual information metrics in its feature_selection module: one for real-valued targets (mutual_info_regression) and one for categorical targets (mutual_info_classif). Our target, price, is real-valued. The next cell computes the MI scores for our features and wraps them up in a nice dataframe."
   ]
  },
  {
   "cell_type": "code",
   "execution_count": 35,
   "metadata": {},
   "outputs": [
    {
     "data": {
      "text/plain": [
       "type                0.543171\n",
       "type_description    0.346060\n",
       "target              0.010128\n",
       "Name: MI Scores, dtype: float64"
      ]
     },
     "execution_count": 35,
     "metadata": {},
     "output_type": "execute_result"
    }
   ],
   "source": [
    "from sklearn.feature_selection import mutual_info_regression\n",
    "\n",
    "def make_mi_scores(X, y, discrete_features):\n",
    "    mi_scores = mutual_info_regression(X, y, discrete_features=discrete_features)\n",
    "    mi_scores = pd.Series(mi_scores, name=\"MI Scores\", index=X.columns)\n",
    "    mi_scores = mi_scores.sort_values(ascending=False)\n",
    "    return mi_scores\n",
    "\n",
    "mi_scores = make_mi_scores(X, y, discrete_features)\n",
    "mi_scores[::3]  # show a few features with their MI scores"
   ]
  },
  {
   "cell_type": "code",
   "execution_count": 36,
   "metadata": {},
   "outputs": [
    {
     "data": {
      "image/png": "[encoded data removed]",
      "text/plain": [
       "<Figure size 800x500 with 1 Axes>"
      ]
     },
     "metadata": {
      "needs_background": "light"
     },
     "output_type": "display_data"
    }
   ],
   "source": [
    "def plot_mi_scores(scores):\n",
    "    scores = scores.sort_values(ascending=True)\n",
    "    width = np.arange(len(scores))\n",
    "    ticks = list(scores.index)\n",
    "    plt.barh(width, scores)\n",
    "    plt.yticks(width, ticks)\n",
    "    plt.title(\"Mutual Information Scores\")\n",
    "\n",
    "\n",
    "plt.figure(dpi=100, figsize=(8, 5))\n",
    "plot_mi_scores(mi_scores)"
   ]
  },
  {
   "cell_type": "markdown",
   "metadata": {},
   "source": [
    "As we might expect, the high-scoring type feature exhibits a strong relationship with sum, the target.\n",
    "\n",
    "Now we can calculate income and expenses. To calculate these calculations, we used the code below. In which if the amount is positive, it is income, and if negative, it is expenses."
   ]
  },
  {
   "cell_type": "code",
   "execution_count": 38,
   "metadata": {},
   "outputs": [
    {
     "name": "stderr",
     "output_type": "stream",
     "text": [
      "<ipython-input-38-7fe7715e0b63>:1: SettingWithCopyWarning: \n",
      "A value is trying to be set on a copy of a slice from a DataFrame.\n",
      "Try using .loc[row_indexer,col_indexer] = value instead\n",
      "\n",
      "See the caveats in the documentation: https://pandas.pydata.org/pandas-docs/stable/user_guide/indexing.html#returning-a-view-versus-a-copy\n",
      "  df['income'] = df['sum'].where(df['sum'] > 0)\n",
      "<ipython-input-38-7fe7715e0b63>:2: SettingWithCopyWarning: \n",
      "A value is trying to be set on a copy of a slice from a DataFrame.\n",
      "Try using .loc[row_indexer,col_indexer] = value instead\n",
      "\n",
      "See the caveats in the documentation: https://pandas.pydata.org/pandas-docs/stable/user_guide/indexing.html#returning-a-view-versus-a-copy\n",
      "  df['expenses'] = df['sum'].where(df['sum'] <= 0)\n"
     ]
    }
   ],
   "source": [
    "df['income'] = df['sum'].where(df['sum'] > 0) \n",
    "df['expenses'] = df['sum'].where(df['sum'] <= 0)\n",
    "df = df.replace(np.nan, 0)\n",
    "income = df[df.income > 0].income\n",
    "expenses = df[df.expenses < 0].expenses"
   ]
  },
  {
   "cell_type": "code",
   "execution_count": 42,
   "metadata": {
    "scrolled": true
   },
   "outputs": [
    {
     "name": "stdout",
     "output_type": "stream",
     "text": [
      "Average customer income:  164463.58\n",
      "Mode of income:  0    22459.16\n",
      "dtype: float64\n",
      "Median of income:  22459.16\n",
      "STD of income:  1201144.41\n",
      "Variance of income set is 1442827663402.668\n",
      "--------------------------------------------------\n",
      "Average customer expenses:  -61100.02\n",
      "Mode of Expenses:  0   -2245.92\n",
      "dtype: float64\n",
      "Median of Expenses:  -8983.66\n",
      "Variance of Expenses set is 119907111999.0797\n",
      "STD of expenses:  346273.71\n"
     ]
    }
   ],
   "source": [
    "print('Average customer income: ', round(np.mean(income), 2))\n",
    "print('Mode of income: ',  round(income.mode(), 2))\n",
    "print('Median of income: ', round(np.median(income), 2))\n",
    "print('STD of income: ', round(np.std(income), 2))\n",
    "print(\"Variance of income set is % s\" %(statistics.variance(income)))\n",
    "\n",
    "print(\"-\"*50)\n",
    "\n",
    "print('Average customer expenses: ', round(np.mean(expenses), 2))\n",
    "print('Mode of Expenses: ', expenses.mode())\n",
    "print('Median of Expenses: ', round(np.median(expenses), 2))\n",
    "print(\"Variance of Expenses set is % s\" %(statistics.variance(expenses)))\n",
    "print('STD of expenses: ', round(np.std(expenses), 2))"
   ]
  },
  {
   "cell_type": "markdown",
   "metadata": {},
   "source": [
    "## RFM Analysis"
   ]
  },
  {
   "cell_type": "markdown",
   "metadata": {},
   "source": [
    "RFM (Recency, Frequency, Monetary) analysis is a customer segmentation technique that use post purchase behavior to divide customers into groups. RFM helps divide customers into various categories or clusters to identify customers who are more likely to respond to promotions and also for future personalization services.\n",
    "\n",
    "1) RECENCY (R): Days since last purchase\n",
    "\n",
    "2) FREQUENCY (F): Total number of purchases\n",
    "\n",
    "3) MONETARY VALUE (M): Total money this customer spent."
   ]
  },
  {
   "cell_type": "markdown",
   "metadata": {},
   "source": [
    "First of all, we need to design our datetime column beautifully, that is, write it in the correct form, year-month-day. To do this, we will use our following codes"
   ]
  },
  {
   "cell_type": "code",
   "execution_count": 44,
   "metadata": {},
   "outputs": [
    {
     "data": {
      "text/plain": [
       "91706"
      ]
     },
     "execution_count": 44,
     "metadata": {},
     "output_type": "execute_result"
    }
   ],
   "source": [
    "days_hour = [i for i in df.datetime.str.split(' ')]  # list of days\n",
    "days = [days_hour[i][0] for i in range(len(days_hour))]  # for every column in range of days_hour length\n",
    "days = [int(i) for i in days]  \n",
    "len(days)"
   ]
  },
  {
   "cell_type": "code",
   "execution_count": 45,
   "metadata": {},
   "outputs": [
    {
     "data": {
      "text/html": [
       "<div>\n",
       "<style scoped>\n",
       "    .dataframe tbody tr th:only-of-type {\n",
       "        vertical-align: middle;\n",
       "    }\n",
       "\n",
       "    .dataframe tbody tr th {\n",
       "        vertical-align: top;\n",
       "    }\n",
       "\n",
       "    .dataframe thead th {\n",
       "        text-align: right;\n",
       "    }\n",
       "</style>\n",
       "<table border=\"1\" class=\"dataframe\">\n",
       "  <thead>\n",
       "    <tr style=\"text-align: right;\">\n",
       "      <th></th>\n",
       "      <th>client_id</th>\n",
       "      <th>datetime</th>\n",
       "      <th>code</th>\n",
       "      <th>type</th>\n",
       "      <th>sum</th>\n",
       "      <th>target</th>\n",
       "      <th>type_description</th>\n",
       "      <th>code_description</th>\n",
       "      <th>income</th>\n",
       "      <th>expenses</th>\n",
       "      <th>Time</th>\n",
       "    </tr>\n",
       "  </thead>\n",
       "  <tbody>\n",
       "    <tr>\n",
       "      <th>0</th>\n",
       "      <td>96372458</td>\n",
       "      <td>421 06:33:15</td>\n",
       "      <td>6011</td>\n",
       "      <td>2010</td>\n",
       "      <td>-561478.94</td>\n",
       "      <td>0</td>\n",
       "      <td>Выдача наличных в АТМ</td>\n",
       "      <td>Финансовые институты — снятие наличности автом...</td>\n",
       "      <td>0.0</td>\n",
       "      <td>-561478.94</td>\n",
       "      <td>2020-11-27</td>\n",
       "    </tr>\n",
       "    <tr>\n",
       "      <th>1</th>\n",
       "      <td>96372458</td>\n",
       "      <td>68 02:04:11</td>\n",
       "      <td>6011</td>\n",
       "      <td>2010</td>\n",
       "      <td>-426724.00</td>\n",
       "      <td>0</td>\n",
       "      <td>Выдача наличных в АТМ</td>\n",
       "      <td>Финансовые институты — снятие наличности автом...</td>\n",
       "      <td>0.0</td>\n",
       "      <td>-426724.00</td>\n",
       "      <td>2019-12-10</td>\n",
       "    </tr>\n",
       "    <tr>\n",
       "      <th>2</th>\n",
       "      <td>96372458</td>\n",
       "      <td>433 06:45:32</td>\n",
       "      <td>6011</td>\n",
       "      <td>2010</td>\n",
       "      <td>-112295.79</td>\n",
       "      <td>0</td>\n",
       "      <td>Выдача наличных в АТМ</td>\n",
       "      <td>Финансовые институты — снятие наличности автом...</td>\n",
       "      <td>0.0</td>\n",
       "      <td>-112295.79</td>\n",
       "      <td>2020-12-09</td>\n",
       "    </tr>\n",
       "    <tr>\n",
       "      <th>3</th>\n",
       "      <td>21717441</td>\n",
       "      <td>55 13:38:47</td>\n",
       "      <td>6011</td>\n",
       "      <td>2010</td>\n",
       "      <td>-44918.32</td>\n",
       "      <td>0</td>\n",
       "      <td>Выдача наличных в АТМ</td>\n",
       "      <td>Финансовые институты — снятие наличности автом...</td>\n",
       "      <td>0.0</td>\n",
       "      <td>-44918.32</td>\n",
       "      <td>2019-11-27</td>\n",
       "    </tr>\n",
       "    <tr>\n",
       "      <th>4</th>\n",
       "      <td>21717441</td>\n",
       "      <td>294 13:27:44</td>\n",
       "      <td>6011</td>\n",
       "      <td>2010</td>\n",
       "      <td>-898366.31</td>\n",
       "      <td>0</td>\n",
       "      <td>Выдача наличных в АТМ</td>\n",
       "      <td>Финансовые институты — снятие наличности автом...</td>\n",
       "      <td>0.0</td>\n",
       "      <td>-898366.31</td>\n",
       "      <td>2020-07-23</td>\n",
       "    </tr>\n",
       "    <tr>\n",
       "      <th>...</th>\n",
       "      <td>...</td>\n",
       "      <td>...</td>\n",
       "      <td>...</td>\n",
       "      <td>...</td>\n",
       "      <td>...</td>\n",
       "      <td>...</td>\n",
       "      <td>...</td>\n",
       "      <td>...</td>\n",
       "      <td>...</td>\n",
       "      <td>...</td>\n",
       "      <td>...</td>\n",
       "    </tr>\n",
       "    <tr>\n",
       "      <th>91795</th>\n",
       "      <td>38977682</td>\n",
       "      <td>286 00:00:00</td>\n",
       "      <td>3351</td>\n",
       "      <td>1200</td>\n",
       "      <td>-56332.06</td>\n",
       "      <td>1</td>\n",
       "      <td>Покупка. Зарубеж.</td>\n",
       "      <td>Агентства по аренде автомобилей</td>\n",
       "      <td>0.0</td>\n",
       "      <td>-56332.06</td>\n",
       "      <td>2020-07-15</td>\n",
       "    </tr>\n",
       "    <tr>\n",
       "      <th>91796</th>\n",
       "      <td>61978280</td>\n",
       "      <td>401 00:00:00</td>\n",
       "      <td>5169</td>\n",
       "      <td>1200</td>\n",
       "      <td>-271194.78</td>\n",
       "      <td>1</td>\n",
       "      <td>Покупка. Зарубеж.</td>\n",
       "      <td>Химикалии и смежные вещества, не классифициров...</td>\n",
       "      <td>0.0</td>\n",
       "      <td>-271194.78</td>\n",
       "      <td>2020-11-07</td>\n",
       "    </tr>\n",
       "    <tr>\n",
       "      <th>91797</th>\n",
       "      <td>97803699</td>\n",
       "      <td>371 19:47:00</td>\n",
       "      <td>6513</td>\n",
       "      <td>1210</td>\n",
       "      <td>-60792.00</td>\n",
       "      <td>0</td>\n",
       "      <td>Покупка. POS  Зарубеж.</td>\n",
       "      <td>Агенты и менеджеры по аренде недвижимости</td>\n",
       "      <td>0.0</td>\n",
       "      <td>-60792.00</td>\n",
       "      <td>2020-10-08</td>\n",
       "    </tr>\n",
       "    <tr>\n",
       "      <th>91798</th>\n",
       "      <td>31009144</td>\n",
       "      <td>81 17:32:60</td>\n",
       "      <td>4411</td>\n",
       "      <td>1210</td>\n",
       "      <td>-904166.84</td>\n",
       "      <td>0</td>\n",
       "      <td>Покупка. POS  Зарубеж.</td>\n",
       "      <td>Круизные линии</td>\n",
       "      <td>0.0</td>\n",
       "      <td>-904166.84</td>\n",
       "      <td>2019-12-23</td>\n",
       "    </tr>\n",
       "    <tr>\n",
       "      <th>91799</th>\n",
       "      <td>63953233</td>\n",
       "      <td>15 00:00:00</td>\n",
       "      <td>4411</td>\n",
       "      <td>1210</td>\n",
       "      <td>-77535.30</td>\n",
       "      <td>0</td>\n",
       "      <td>Покупка. POS  Зарубеж.</td>\n",
       "      <td>Круизные линии</td>\n",
       "      <td>0.0</td>\n",
       "      <td>-77535.30</td>\n",
       "      <td>2019-10-18</td>\n",
       "    </tr>\n",
       "  </tbody>\n",
       "</table>\n",
       "<p>91706 rows × 11 columns</p>\n",
       "</div>"
      ],
      "text/plain": [
       "       client_id      datetime  code  type        sum  target  \\\n",
       "0       96372458  421 06:33:15  6011  2010 -561478.94       0   \n",
       "1       96372458   68 02:04:11  6011  2010 -426724.00       0   \n",
       "2       96372458  433 06:45:32  6011  2010 -112295.79       0   \n",
       "3       21717441   55 13:38:47  6011  2010  -44918.32       0   \n",
       "4       21717441  294 13:27:44  6011  2010 -898366.31       0   \n",
       "...          ...           ...   ...   ...        ...     ...   \n",
       "91795   38977682  286 00:00:00  3351  1200  -56332.06       1   \n",
       "91796   61978280  401 00:00:00  5169  1200 -271194.78       1   \n",
       "91797   97803699  371 19:47:00  6513  1210  -60792.00       0   \n",
       "91798   31009144   81 17:32:60  4411  1210 -904166.84       0   \n",
       "91799   63953233   15 00:00:00  4411  1210  -77535.30       0   \n",
       "\n",
       "             type_description  \\\n",
       "0       Выдача наличных в АТМ   \n",
       "1       Выдача наличных в АТМ   \n",
       "2       Выдача наличных в АТМ   \n",
       "3       Выдача наличных в АТМ   \n",
       "4       Выдача наличных в АТМ   \n",
       "...                       ...   \n",
       "91795      Покупка. Зарубеж.    \n",
       "91796      Покупка. Зарубеж.    \n",
       "91797  Покупка. POS  Зарубеж.   \n",
       "91798  Покупка. POS  Зарубеж.   \n",
       "91799  Покупка. POS  Зарубеж.   \n",
       "\n",
       "                                        code_description  income   expenses  \\\n",
       "0      Финансовые институты — снятие наличности автом...     0.0 -561478.94   \n",
       "1      Финансовые институты — снятие наличности автом...     0.0 -426724.00   \n",
       "2      Финансовые институты — снятие наличности автом...     0.0 -112295.79   \n",
       "3      Финансовые институты — снятие наличности автом...     0.0  -44918.32   \n",
       "4      Финансовые институты — снятие наличности автом...     0.0 -898366.31   \n",
       "...                                                  ...     ...        ...   \n",
       "91795                    Агентства по аренде автомобилей     0.0  -56332.06   \n",
       "91796  Химикалии и смежные вещества, не классифициров...     0.0 -271194.78   \n",
       "91797          Агенты и менеджеры по аренде недвижимости     0.0  -60792.00   \n",
       "91798                                     Круизные линии     0.0 -904166.84   \n",
       "91799                                     Круизные линии     0.0  -77535.30   \n",
       "\n",
       "            Time  \n",
       "0     2020-11-27  \n",
       "1     2019-12-10  \n",
       "2     2020-12-09  \n",
       "3     2019-11-27  \n",
       "4     2020-07-23  \n",
       "...          ...  \n",
       "91795 2020-07-15  \n",
       "91796 2020-11-07  \n",
       "91797 2020-10-08  \n",
       "91798 2019-12-23  \n",
       "91799 2019-10-18  \n",
       "\n",
       "[91706 rows x 11 columns]"
      ]
     },
     "execution_count": 45,
     "metadata": {},
     "output_type": "execute_result"
    }
   ],
   "source": [
    "year_w_d = pd.date_range(end = \"2021-01-01\", periods = max(days)+1).tolist() # create list with different days\n",
    "year = []   # create list\n",
    "for i in range(len(days)): \n",
    "    for j in range(457):\n",
    "        if days[i] == j:\n",
    "            year.append(year_w_d[j]) # appending date to 'year' list\n",
    "df['Time'] = year  # new column with date\n",
    "df"
   ]
  },
  {
   "cell_type": "markdown",
   "metadata": {},
   "source": [
    "### Recency"
   ]
  },
  {
   "cell_type": "markdown",
   "metadata": {},
   "source": [
    "To calculate recency, we need to choose a date point from which we evaluate how many days ago was the customer's last purchase."
   ]
  },
  {
   "cell_type": "code",
   "execution_count": 59,
   "metadata": {},
   "outputs": [],
   "source": [
    "#last date available in our dataset\n",
    "now = df['Time'].max()"
   ]
  },
  {
   "cell_type": "code",
   "execution_count": 60,
   "metadata": {},
   "outputs": [
    {
     "data": {
      "text/html": [
       "<div>\n",
       "<style scoped>\n",
       "    .dataframe tbody tr th:only-of-type {\n",
       "        vertical-align: middle;\n",
       "    }\n",
       "\n",
       "    .dataframe tbody tr th {\n",
       "        vertical-align: top;\n",
       "    }\n",
       "\n",
       "    .dataframe thead th {\n",
       "        text-align: right;\n",
       "    }\n",
       "</style>\n",
       "<table border=\"1\" class=\"dataframe\">\n",
       "  <thead>\n",
       "    <tr style=\"text-align: right;\">\n",
       "      <th></th>\n",
       "      <th>client_id</th>\n",
       "      <th>LastPurshaceDate</th>\n",
       "    </tr>\n",
       "  </thead>\n",
       "  <tbody>\n",
       "    <tr>\n",
       "      <th>0</th>\n",
       "      <td>22899</td>\n",
       "      <td>2020-12-17</td>\n",
       "    </tr>\n",
       "    <tr>\n",
       "      <th>1</th>\n",
       "      <td>27914</td>\n",
       "      <td>2020-07-21</td>\n",
       "    </tr>\n",
       "    <tr>\n",
       "      <th>2</th>\n",
       "      <td>28753</td>\n",
       "      <td>2020-12-09</td>\n",
       "    </tr>\n",
       "    <tr>\n",
       "      <th>3</th>\n",
       "      <td>38084</td>\n",
       "      <td>2020-12-05</td>\n",
       "    </tr>\n",
       "    <tr>\n",
       "      <th>4</th>\n",
       "      <td>49793</td>\n",
       "      <td>2020-12-15</td>\n",
       "    </tr>\n",
       "  </tbody>\n",
       "</table>\n",
       "</div>"
      ],
      "text/plain": [
       "   client_id LastPurshaceDate\n",
       "0      22899       2020-12-17\n",
       "1      27914       2020-07-21\n",
       "2      28753       2020-12-09\n",
       "3      38084       2020-12-05\n",
       "4      49793       2020-12-15"
      ]
     },
     "execution_count": 60,
     "metadata": {},
     "output_type": "execute_result"
    }
   ],
   "source": [
    "#group by customers and check last date of purshace\n",
    "recency_df = df.groupby(by='client_id', as_index=False)['Time'].max()\n",
    "recency_df.columns = ['client_id','LastPurshaceDate']\n",
    "recency_df.head()"
   ]
  },
  {
   "cell_type": "code",
   "execution_count": 62,
   "metadata": {},
   "outputs": [
    {
     "data": {
      "text/html": [
       "<div>\n",
       "<style scoped>\n",
       "    .dataframe tbody tr th:only-of-type {\n",
       "        vertical-align: middle;\n",
       "    }\n",
       "\n",
       "    .dataframe tbody tr th {\n",
       "        vertical-align: top;\n",
       "    }\n",
       "\n",
       "    .dataframe thead th {\n",
       "        text-align: right;\n",
       "    }\n",
       "</style>\n",
       "<table border=\"1\" class=\"dataframe\">\n",
       "  <thead>\n",
       "    <tr style=\"text-align: right;\">\n",
       "      <th></th>\n",
       "      <th>client_id</th>\n",
       "      <th>LastPurshaceDate</th>\n",
       "      <th>Recency</th>\n",
       "    </tr>\n",
       "  </thead>\n",
       "  <tbody>\n",
       "    <tr>\n",
       "      <th>0</th>\n",
       "      <td>22899</td>\n",
       "      <td>2020-12-17</td>\n",
       "      <td>15</td>\n",
       "    </tr>\n",
       "    <tr>\n",
       "      <th>1</th>\n",
       "      <td>27914</td>\n",
       "      <td>2020-07-21</td>\n",
       "      <td>164</td>\n",
       "    </tr>\n",
       "    <tr>\n",
       "      <th>2</th>\n",
       "      <td>28753</td>\n",
       "      <td>2020-12-09</td>\n",
       "      <td>23</td>\n",
       "    </tr>\n",
       "    <tr>\n",
       "      <th>3</th>\n",
       "      <td>38084</td>\n",
       "      <td>2020-12-05</td>\n",
       "      <td>27</td>\n",
       "    </tr>\n",
       "    <tr>\n",
       "      <th>4</th>\n",
       "      <td>49793</td>\n",
       "      <td>2020-12-15</td>\n",
       "      <td>17</td>\n",
       "    </tr>\n",
       "  </tbody>\n",
       "</table>\n",
       "</div>"
      ],
      "text/plain": [
       "   client_id LastPurshaceDate  Recency\n",
       "0      22899       2020-12-17       15\n",
       "1      27914       2020-07-21      164\n",
       "2      28753       2020-12-09       23\n",
       "3      38084       2020-12-05       27\n",
       "4      49793       2020-12-15       17"
      ]
     },
     "execution_count": 62,
     "metadata": {},
     "output_type": "execute_result"
    }
   ],
   "source": [
    "#calculate recency\n",
    "recency_df['Recency'] = recency_df['LastPurshaceDate'].apply(lambda x: (now - x).days)\n",
    "recency_df.head()"
   ]
  },
  {
   "cell_type": "markdown",
   "metadata": {},
   "source": [
    "### Frequency"
   ]
  },
  {
   "cell_type": "markdown",
   "metadata": {},
   "source": [
    "Frequency helps us to know how many times a customer purchased from us. To do that we need to check how many invoices are registered by the same customer."
   ]
  },
  {
   "cell_type": "code",
   "execution_count": 50,
   "metadata": {},
   "outputs": [
    {
     "data": {
      "text/html": [
       "<div>\n",
       "<style scoped>\n",
       "    .dataframe tbody tr th:only-of-type {\n",
       "        vertical-align: middle;\n",
       "    }\n",
       "\n",
       "    .dataframe tbody tr th {\n",
       "        vertical-align: top;\n",
       "    }\n",
       "\n",
       "    .dataframe thead th {\n",
       "        text-align: right;\n",
       "    }\n",
       "</style>\n",
       "<table border=\"1\" class=\"dataframe\">\n",
       "  <thead>\n",
       "    <tr style=\"text-align: right;\">\n",
       "      <th></th>\n",
       "      <th>client_id</th>\n",
       "      <th>Frequency</th>\n",
       "    </tr>\n",
       "  </thead>\n",
       "  <tbody>\n",
       "    <tr>\n",
       "      <th>0</th>\n",
       "      <td>22899</td>\n",
       "      <td>9</td>\n",
       "    </tr>\n",
       "    <tr>\n",
       "      <th>1</th>\n",
       "      <td>27914</td>\n",
       "      <td>4</td>\n",
       "    </tr>\n",
       "    <tr>\n",
       "      <th>2</th>\n",
       "      <td>28753</td>\n",
       "      <td>13</td>\n",
       "    </tr>\n",
       "    <tr>\n",
       "      <th>3</th>\n",
       "      <td>38084</td>\n",
       "      <td>24</td>\n",
       "    </tr>\n",
       "    <tr>\n",
       "      <th>4</th>\n",
       "      <td>49793</td>\n",
       "      <td>20</td>\n",
       "    </tr>\n",
       "  </tbody>\n",
       "</table>\n",
       "</div>"
      ],
      "text/plain": [
       "   client_id  Frequency\n",
       "0      22899          9\n",
       "1      27914          4\n",
       "2      28753         13\n",
       "3      38084         24\n",
       "4      49793         20"
      ]
     },
     "execution_count": 50,
     "metadata": {},
     "output_type": "execute_result"
    }
   ],
   "source": [
    "# drop duplicates\n",
    "df_copy = df\n",
    "df_copy.drop_duplicates(subset=['Time', 'client_id'], keep=\"first\", inplace=True)\n",
    "\n",
    "#calculate frequency of purchases\n",
    "frequency_df = df_copy.groupby(by=['client_id'], as_index=False)['Time'].count()\n",
    "frequency_df.columns = ['client_id','Frequency']\n",
    "frequency_df.head()"
   ]
  },
  {
   "cell_type": "markdown",
   "metadata": {},
   "source": [
    "### Monetary"
   ]
  },
  {
   "cell_type": "markdown",
   "metadata": {},
   "source": [
    "Monetary attribute answers the question: How much money did the customer spent over time?\n",
    "\n",
    "To do that, first, we will create a new column total cost to have the total price per invoice."
   ]
  },
  {
   "cell_type": "code",
   "execution_count": 52,
   "metadata": {},
   "outputs": [
    {
     "data": {
      "text/html": [
       "<div>\n",
       "<style scoped>\n",
       "    .dataframe tbody tr th:only-of-type {\n",
       "        vertical-align: middle;\n",
       "    }\n",
       "\n",
       "    .dataframe tbody tr th {\n",
       "        vertical-align: top;\n",
       "    }\n",
       "\n",
       "    .dataframe thead th {\n",
       "        text-align: right;\n",
       "    }\n",
       "</style>\n",
       "<table border=\"1\" class=\"dataframe\">\n",
       "  <thead>\n",
       "    <tr style=\"text-align: right;\">\n",
       "      <th></th>\n",
       "      <th>client_id</th>\n",
       "      <th>Monetary</th>\n",
       "    </tr>\n",
       "  </thead>\n",
       "  <tbody>\n",
       "    <tr>\n",
       "      <th>0</th>\n",
       "      <td>22899</td>\n",
       "      <td>50847.54</td>\n",
       "    </tr>\n",
       "    <tr>\n",
       "      <th>1</th>\n",
       "      <td>27914</td>\n",
       "      <td>74115.21</td>\n",
       "    </tr>\n",
       "    <tr>\n",
       "      <th>2</th>\n",
       "      <td>28753</td>\n",
       "      <td>-2589800.29</td>\n",
       "    </tr>\n",
       "    <tr>\n",
       "      <th>3</th>\n",
       "      <td>38084</td>\n",
       "      <td>881439.06</td>\n",
       "    </tr>\n",
       "    <tr>\n",
       "      <th>4</th>\n",
       "      <td>49793</td>\n",
       "      <td>-708639.24</td>\n",
       "    </tr>\n",
       "  </tbody>\n",
       "</table>\n",
       "</div>"
      ],
      "text/plain": [
       "   client_id    Monetary\n",
       "0      22899    50847.54\n",
       "1      27914    74115.21\n",
       "2      28753 -2589800.29\n",
       "3      38084   881439.06\n",
       "4      49793  -708639.24"
      ]
     },
     "execution_count": 52,
     "metadata": {},
     "output_type": "execute_result"
    }
   ],
   "source": [
    "# Here we are calculating the monetary value of customer spend on using bank operations.\n",
    "monetary_df = df.groupby(by='client_id',as_index=False)['sum'].sum()\n",
    "monetary_df.columns = ['client_id','Monetary']\n",
    "monetary_df.head()"
   ]
  },
  {
   "cell_type": "markdown",
   "metadata": {},
   "source": [
    "### Create RFM Table"
   ]
  },
  {
   "cell_type": "code",
   "execution_count": 63,
   "metadata": {},
   "outputs": [
    {
     "data": {
      "text/html": [
       "<div>\n",
       "<style scoped>\n",
       "    .dataframe tbody tr th:only-of-type {\n",
       "        vertical-align: middle;\n",
       "    }\n",
       "\n",
       "    .dataframe tbody tr th {\n",
       "        vertical-align: top;\n",
       "    }\n",
       "\n",
       "    .dataframe thead th {\n",
       "        text-align: right;\n",
       "    }\n",
       "</style>\n",
       "<table border=\"1\" class=\"dataframe\">\n",
       "  <thead>\n",
       "    <tr style=\"text-align: right;\">\n",
       "      <th></th>\n",
       "      <th>client_id</th>\n",
       "      <th>LastPurshaceDate</th>\n",
       "      <th>Recency</th>\n",
       "      <th>Frequency</th>\n",
       "    </tr>\n",
       "  </thead>\n",
       "  <tbody>\n",
       "    <tr>\n",
       "      <th>0</th>\n",
       "      <td>22899</td>\n",
       "      <td>2020-12-17</td>\n",
       "      <td>15</td>\n",
       "      <td>9</td>\n",
       "    </tr>\n",
       "    <tr>\n",
       "      <th>1</th>\n",
       "      <td>27914</td>\n",
       "      <td>2020-07-21</td>\n",
       "      <td>164</td>\n",
       "      <td>4</td>\n",
       "    </tr>\n",
       "    <tr>\n",
       "      <th>2</th>\n",
       "      <td>28753</td>\n",
       "      <td>2020-12-09</td>\n",
       "      <td>23</td>\n",
       "      <td>13</td>\n",
       "    </tr>\n",
       "    <tr>\n",
       "      <th>3</th>\n",
       "      <td>38084</td>\n",
       "      <td>2020-12-05</td>\n",
       "      <td>27</td>\n",
       "      <td>24</td>\n",
       "    </tr>\n",
       "    <tr>\n",
       "      <th>4</th>\n",
       "      <td>49793</td>\n",
       "      <td>2020-12-15</td>\n",
       "      <td>17</td>\n",
       "      <td>20</td>\n",
       "    </tr>\n",
       "  </tbody>\n",
       "</table>\n",
       "</div>"
      ],
      "text/plain": [
       "   client_id LastPurshaceDate  Recency  Frequency\n",
       "0      22899       2020-12-17       15          9\n",
       "1      27914       2020-07-21      164          4\n",
       "2      28753       2020-12-09       23         13\n",
       "3      38084       2020-12-05       27         24\n",
       "4      49793       2020-12-15       17         20"
      ]
     },
     "execution_count": 63,
     "metadata": {},
     "output_type": "execute_result"
    }
   ],
   "source": [
    "#merge recency dataframe with frequency dataframe\n",
    "temp_df = recency_df.merge(frequency_df,on='client_id')\n",
    "temp_df.head()"
   ]
  },
  {
   "cell_type": "code",
   "execution_count": 64,
   "metadata": {},
   "outputs": [
    {
     "data": {
      "text/html": [
       "<div>\n",
       "<style scoped>\n",
       "    .dataframe tbody tr th:only-of-type {\n",
       "        vertical-align: middle;\n",
       "    }\n",
       "\n",
       "    .dataframe tbody tr th {\n",
       "        vertical-align: top;\n",
       "    }\n",
       "\n",
       "    .dataframe thead th {\n",
       "        text-align: right;\n",
       "    }\n",
       "</style>\n",
       "<table border=\"1\" class=\"dataframe\">\n",
       "  <thead>\n",
       "    <tr style=\"text-align: right;\">\n",
       "      <th></th>\n",
       "      <th>LastPurshaceDate</th>\n",
       "      <th>Recency</th>\n",
       "      <th>Frequency</th>\n",
       "      <th>Monetary</th>\n",
       "    </tr>\n",
       "    <tr>\n",
       "      <th>client_id</th>\n",
       "      <th></th>\n",
       "      <th></th>\n",
       "      <th></th>\n",
       "      <th></th>\n",
       "    </tr>\n",
       "  </thead>\n",
       "  <tbody>\n",
       "    <tr>\n",
       "      <th>22899</th>\n",
       "      <td>2020-12-17</td>\n",
       "      <td>15</td>\n",
       "      <td>9</td>\n",
       "      <td>50847.54</td>\n",
       "    </tr>\n",
       "    <tr>\n",
       "      <th>27914</th>\n",
       "      <td>2020-07-21</td>\n",
       "      <td>164</td>\n",
       "      <td>4</td>\n",
       "      <td>74115.21</td>\n",
       "    </tr>\n",
       "    <tr>\n",
       "      <th>28753</th>\n",
       "      <td>2020-12-09</td>\n",
       "      <td>23</td>\n",
       "      <td>13</td>\n",
       "      <td>-2589800.29</td>\n",
       "    </tr>\n",
       "    <tr>\n",
       "      <th>38084</th>\n",
       "      <td>2020-12-05</td>\n",
       "      <td>27</td>\n",
       "      <td>24</td>\n",
       "      <td>881439.06</td>\n",
       "    </tr>\n",
       "    <tr>\n",
       "      <th>49793</th>\n",
       "      <td>2020-12-15</td>\n",
       "      <td>17</td>\n",
       "      <td>20</td>\n",
       "      <td>-708639.24</td>\n",
       "    </tr>\n",
       "  </tbody>\n",
       "</table>\n",
       "</div>"
      ],
      "text/plain": [
       "          LastPurshaceDate  Recency  Frequency    Monetary\n",
       "client_id                                                 \n",
       "22899           2020-12-17       15          9    50847.54\n",
       "27914           2020-07-21      164          4    74115.21\n",
       "28753           2020-12-09       23         13 -2589800.29\n",
       "38084           2020-12-05       27         24   881439.06\n",
       "49793           2020-12-15       17         20  -708639.24"
      ]
     },
     "execution_count": 64,
     "metadata": {},
     "output_type": "execute_result"
    }
   ],
   "source": [
    "#merge with monetary dataframe to get a table with the 3 columns\n",
    "rfm_df = temp_df.merge(monetary_df,on='client_id')\n",
    "#use CustomerID as index\n",
    "rfm_df.set_index('client_id',inplace=True)\n",
    "#check the head\n",
    "rfm_df.head()"
   ]
  },
  {
   "cell_type": "markdown",
   "metadata": {},
   "source": [
    "In order to categorize clients into groups of their indicators, we shall feature the smallest recency which gets the best clients since the newest transactions are better and it implies that the client is probably still using the services. At the same time the biggest recency(the oldest transactions) is the worst option indicating a possible loss of a customer. The next way to categorize is according to the highest frequency which demonstrates the best clients who complete transactions regularly. The lowest frequency shows the most inactive customers or people who have completed a couple of random transactions. The latter may also be considered as a lost customer not holding much value in a dataset.\n",
    "And the biggest absolute values from monetary_values column indicate the best clients with high financial value in a dataset(the transactions may be positive or negative numbers, that's why we use their absolute values). The smallest monetary values imply the smallest significance of clients generally in a dataset."
   ]
  },
  {
   "cell_type": "markdown",
   "metadata": {},
   "source": [
    "### Customer segments with RFM Model"
   ]
  },
  {
   "cell_type": "markdown",
   "metadata": {},
   "source": [
    "The simplest way to create customers segments from RFM Model is to use Quartiles. We assign a score from 1 to 4 to Recency, Frequency and Monetary. Four is the best/highest value, and one is the lowest/worst value. A final RFM score is calculated simply by combining individual RFM score numbers.\n",
    "\n",
    "Note: Quintiles (score from 1-5) offer better granularity, in case the business needs that but it will be more challenging to create segments since we will have 555 possible combinations. So, we will use quartiles."
   ]
  },
  {
   "cell_type": "code",
   "execution_count": 65,
   "metadata": {},
   "outputs": [
    {
     "data": {
      "text/html": [
       "<div>\n",
       "<style scoped>\n",
       "    .dataframe tbody tr th:only-of-type {\n",
       "        vertical-align: middle;\n",
       "    }\n",
       "\n",
       "    .dataframe tbody tr th {\n",
       "        vertical-align: top;\n",
       "    }\n",
       "\n",
       "    .dataframe thead th {\n",
       "        text-align: right;\n",
       "    }\n",
       "</style>\n",
       "<table border=\"1\" class=\"dataframe\">\n",
       "  <thead>\n",
       "    <tr style=\"text-align: right;\">\n",
       "      <th></th>\n",
       "      <th>Recency</th>\n",
       "      <th>Frequency</th>\n",
       "      <th>Monetary</th>\n",
       "    </tr>\n",
       "  </thead>\n",
       "  <tbody>\n",
       "    <tr>\n",
       "      <th>0.25</th>\n",
       "      <td>9.0</td>\n",
       "      <td>5.0</td>\n",
       "      <td>-422174.7425</td>\n",
       "    </tr>\n",
       "    <tr>\n",
       "      <th>0.50</th>\n",
       "      <td>25.0</td>\n",
       "      <td>10.0</td>\n",
       "      <td>-146364.0900</td>\n",
       "    </tr>\n",
       "    <tr>\n",
       "      <th>0.75</th>\n",
       "      <td>66.0</td>\n",
       "      <td>18.0</td>\n",
       "      <td>-10926.3825</td>\n",
       "    </tr>\n",
       "  </tbody>\n",
       "</table>\n",
       "</div>"
      ],
      "text/plain": [
       "      Recency  Frequency     Monetary\n",
       "0.25      9.0        5.0 -422174.7425\n",
       "0.50     25.0       10.0 -146364.0900\n",
       "0.75     66.0       18.0  -10926.3825"
      ]
     },
     "execution_count": 65,
     "metadata": {},
     "output_type": "execute_result"
    }
   ],
   "source": [
    "quantiles = rfm_df.quantile(q=[0.25,0.5,0.75])\n",
    "quantiles"
   ]
  },
  {
   "cell_type": "code",
   "execution_count": 66,
   "metadata": {},
   "outputs": [
    {
     "data": {
      "text/plain": [
       "{'Recency': {0.25: 9.0, 0.5: 25.0, 0.75: 66.0},\n",
       " 'Frequency': {0.25: 5.0, 0.5: 10.0, 0.75: 18.0},\n",
       " 'Monetary': {0.25: -422174.74249999993,\n",
       "  0.5: -146364.08999999962,\n",
       "  0.75: -10926.382500000002}}"
      ]
     },
     "execution_count": 66,
     "metadata": {},
     "output_type": "execute_result"
    }
   ],
   "source": [
    "quantiles.to_dict()"
   ]
  },
  {
   "cell_type": "markdown",
   "metadata": {},
   "source": [
    "Creation of RFM Segments\n",
    "\n",
    "We will create two segmentation classes since, high recency is bad, while high frequency and monetary value is good."
   ]
  },
  {
   "cell_type": "code",
   "execution_count": 67,
   "metadata": {},
   "outputs": [],
   "source": [
    "# Arguments (x = value, p = recency, monetary_value, frequency, d = quartiles dict)\n",
    "def RScore(x,p,d):\n",
    "    if x <= d[p][0.25]:\n",
    "        return 4\n",
    "    elif x <= d[p][0.50]:\n",
    "        return 3\n",
    "    elif x <= d[p][0.75]: \n",
    "        return 2\n",
    "    else:\n",
    "        return 1\n",
    "# Arguments (x = value, p = recency, monetary_value, frequency, k = quartiles dict)\n",
    "def FMScore(x,p,d):\n",
    "    if x <= d[p][0.25]:\n",
    "        return 1\n",
    "    elif x <= d[p][0.50]:\n",
    "        return 2\n",
    "    elif x <= d[p][0.75]: \n",
    "        return 3\n",
    "    else:\n",
    "        return 4"
   ]
  },
  {
   "cell_type": "code",
   "execution_count": 68,
   "metadata": {},
   "outputs": [],
   "source": [
    "#create rfm segmentation table\n",
    "rfm_segmentation = rfm_df\n",
    "rfm_segmentation['R_Quartile'] = rfm_segmentation['Recency'].apply(RScore, args=('Recency',quantiles,))\n",
    "rfm_segmentation['F_Quartile'] = rfm_segmentation['Frequency'].apply(FMScore, args=('Frequency',quantiles,))\n",
    "rfm_segmentation['M_Quartile'] = rfm_segmentation['Monetary'].apply(FMScore, args=('Monetary',quantiles,))"
   ]
  },
  {
   "cell_type": "code",
   "execution_count": 69,
   "metadata": {},
   "outputs": [
    {
     "data": {
      "text/html": [
       "<div>\n",
       "<style scoped>\n",
       "    .dataframe tbody tr th:only-of-type {\n",
       "        vertical-align: middle;\n",
       "    }\n",
       "\n",
       "    .dataframe tbody tr th {\n",
       "        vertical-align: top;\n",
       "    }\n",
       "\n",
       "    .dataframe thead th {\n",
       "        text-align: right;\n",
       "    }\n",
       "</style>\n",
       "<table border=\"1\" class=\"dataframe\">\n",
       "  <thead>\n",
       "    <tr style=\"text-align: right;\">\n",
       "      <th></th>\n",
       "      <th>LastPurshaceDate</th>\n",
       "      <th>Recency</th>\n",
       "      <th>Frequency</th>\n",
       "      <th>Monetary</th>\n",
       "      <th>R_Quartile</th>\n",
       "      <th>F_Quartile</th>\n",
       "      <th>M_Quartile</th>\n",
       "    </tr>\n",
       "    <tr>\n",
       "      <th>client_id</th>\n",
       "      <th></th>\n",
       "      <th></th>\n",
       "      <th></th>\n",
       "      <th></th>\n",
       "      <th></th>\n",
       "      <th></th>\n",
       "      <th></th>\n",
       "    </tr>\n",
       "  </thead>\n",
       "  <tbody>\n",
       "    <tr>\n",
       "      <th>22899</th>\n",
       "      <td>2020-12-17</td>\n",
       "      <td>15</td>\n",
       "      <td>9</td>\n",
       "      <td>50847.54</td>\n",
       "      <td>3</td>\n",
       "      <td>2</td>\n",
       "      <td>4</td>\n",
       "    </tr>\n",
       "    <tr>\n",
       "      <th>27914</th>\n",
       "      <td>2020-07-21</td>\n",
       "      <td>164</td>\n",
       "      <td>4</td>\n",
       "      <td>74115.21</td>\n",
       "      <td>1</td>\n",
       "      <td>1</td>\n",
       "      <td>4</td>\n",
       "    </tr>\n",
       "    <tr>\n",
       "      <th>28753</th>\n",
       "      <td>2020-12-09</td>\n",
       "      <td>23</td>\n",
       "      <td>13</td>\n",
       "      <td>-2589800.29</td>\n",
       "      <td>3</td>\n",
       "      <td>3</td>\n",
       "      <td>1</td>\n",
       "    </tr>\n",
       "    <tr>\n",
       "      <th>38084</th>\n",
       "      <td>2020-12-05</td>\n",
       "      <td>27</td>\n",
       "      <td>24</td>\n",
       "      <td>881439.06</td>\n",
       "      <td>2</td>\n",
       "      <td>4</td>\n",
       "      <td>4</td>\n",
       "    </tr>\n",
       "    <tr>\n",
       "      <th>49793</th>\n",
       "      <td>2020-12-15</td>\n",
       "      <td>17</td>\n",
       "      <td>20</td>\n",
       "      <td>-708639.24</td>\n",
       "      <td>3</td>\n",
       "      <td>4</td>\n",
       "      <td>1</td>\n",
       "    </tr>\n",
       "  </tbody>\n",
       "</table>\n",
       "</div>"
      ],
      "text/plain": [
       "          LastPurshaceDate  Recency  Frequency    Monetary  R_Quartile  \\\n",
       "client_id                                                                \n",
       "22899           2020-12-17       15          9    50847.54           3   \n",
       "27914           2020-07-21      164          4    74115.21           1   \n",
       "28753           2020-12-09       23         13 -2589800.29           3   \n",
       "38084           2020-12-05       27         24   881439.06           2   \n",
       "49793           2020-12-15       17         20  -708639.24           3   \n",
       "\n",
       "           F_Quartile  M_Quartile  \n",
       "client_id                          \n",
       "22899               2           4  \n",
       "27914               1           4  \n",
       "28753               3           1  \n",
       "38084               4           4  \n",
       "49793               4           1  "
      ]
     },
     "execution_count": 69,
     "metadata": {},
     "output_type": "execute_result"
    }
   ],
   "source": [
    "rfm_segmentation.head()"
   ]
  },
  {
   "cell_type": "markdown",
   "metadata": {},
   "source": [
    "Now that we have the score of each customer, we can represent our customer segmentation. First, we need to combine the scores (R_Quartile, F_Quartile,M_Quartile) together."
   ]
  },
  {
   "cell_type": "code",
   "execution_count": 70,
   "metadata": {},
   "outputs": [
    {
     "data": {
      "text/html": [
       "<div>\n",
       "<style scoped>\n",
       "    .dataframe tbody tr th:only-of-type {\n",
       "        vertical-align: middle;\n",
       "    }\n",
       "\n",
       "    .dataframe tbody tr th {\n",
       "        vertical-align: top;\n",
       "    }\n",
       "\n",
       "    .dataframe thead th {\n",
       "        text-align: right;\n",
       "    }\n",
       "</style>\n",
       "<table border=\"1\" class=\"dataframe\">\n",
       "  <thead>\n",
       "    <tr style=\"text-align: right;\">\n",
       "      <th></th>\n",
       "      <th>LastPurshaceDate</th>\n",
       "      <th>Recency</th>\n",
       "      <th>Frequency</th>\n",
       "      <th>Monetary</th>\n",
       "      <th>R_Quartile</th>\n",
       "      <th>F_Quartile</th>\n",
       "      <th>M_Quartile</th>\n",
       "      <th>RFMScore</th>\n",
       "    </tr>\n",
       "    <tr>\n",
       "      <th>client_id</th>\n",
       "      <th></th>\n",
       "      <th></th>\n",
       "      <th></th>\n",
       "      <th></th>\n",
       "      <th></th>\n",
       "      <th></th>\n",
       "      <th></th>\n",
       "      <th></th>\n",
       "    </tr>\n",
       "  </thead>\n",
       "  <tbody>\n",
       "    <tr>\n",
       "      <th>22899</th>\n",
       "      <td>2020-12-17</td>\n",
       "      <td>15</td>\n",
       "      <td>9</td>\n",
       "      <td>50847.54</td>\n",
       "      <td>3</td>\n",
       "      <td>2</td>\n",
       "      <td>4</td>\n",
       "      <td>324</td>\n",
       "    </tr>\n",
       "    <tr>\n",
       "      <th>27914</th>\n",
       "      <td>2020-07-21</td>\n",
       "      <td>164</td>\n",
       "      <td>4</td>\n",
       "      <td>74115.21</td>\n",
       "      <td>1</td>\n",
       "      <td>1</td>\n",
       "      <td>4</td>\n",
       "      <td>114</td>\n",
       "    </tr>\n",
       "    <tr>\n",
       "      <th>28753</th>\n",
       "      <td>2020-12-09</td>\n",
       "      <td>23</td>\n",
       "      <td>13</td>\n",
       "      <td>-2589800.29</td>\n",
       "      <td>3</td>\n",
       "      <td>3</td>\n",
       "      <td>1</td>\n",
       "      <td>331</td>\n",
       "    </tr>\n",
       "    <tr>\n",
       "      <th>38084</th>\n",
       "      <td>2020-12-05</td>\n",
       "      <td>27</td>\n",
       "      <td>24</td>\n",
       "      <td>881439.06</td>\n",
       "      <td>2</td>\n",
       "      <td>4</td>\n",
       "      <td>4</td>\n",
       "      <td>244</td>\n",
       "    </tr>\n",
       "    <tr>\n",
       "      <th>49793</th>\n",
       "      <td>2020-12-15</td>\n",
       "      <td>17</td>\n",
       "      <td>20</td>\n",
       "      <td>-708639.24</td>\n",
       "      <td>3</td>\n",
       "      <td>4</td>\n",
       "      <td>1</td>\n",
       "      <td>341</td>\n",
       "    </tr>\n",
       "  </tbody>\n",
       "</table>\n",
       "</div>"
      ],
      "text/plain": [
       "          LastPurshaceDate  Recency  Frequency    Monetary  R_Quartile  \\\n",
       "client_id                                                                \n",
       "22899           2020-12-17       15          9    50847.54           3   \n",
       "27914           2020-07-21      164          4    74115.21           1   \n",
       "28753           2020-12-09       23         13 -2589800.29           3   \n",
       "38084           2020-12-05       27         24   881439.06           2   \n",
       "49793           2020-12-15       17         20  -708639.24           3   \n",
       "\n",
       "           F_Quartile  M_Quartile RFMScore  \n",
       "client_id                                   \n",
       "22899               2           4      324  \n",
       "27914               1           4      114  \n",
       "28753               3           1      331  \n",
       "38084               4           4      244  \n",
       "49793               4           1      341  "
      ]
     },
     "execution_count": 70,
     "metadata": {},
     "output_type": "execute_result"
    }
   ],
   "source": [
    "rfm_segmentation['RFMScore'] = rfm_segmentation.R_Quartile.map(str) \\\n",
    "                            + rfm_segmentation.F_Quartile.map(str) \\\n",
    "                            + rfm_segmentation.M_Quartile.map(str)\n",
    "rfm_segmentation.head()"
   ]
  },
  {
   "cell_type": "markdown",
   "metadata": {},
   "source": [
    "Best Recency score = 4: most recently purchase. Best Frequency score = 4: most quantity purchase. Best Monetary score = 4: spent the most.\n",
    "\n",
    "Let's see who are our Champions (best customers)."
   ]
  },
  {
   "cell_type": "code",
   "execution_count": 72,
   "metadata": {},
   "outputs": [
    {
     "data": {
      "text/html": [
       "<div>\n",
       "<style scoped>\n",
       "    .dataframe tbody tr th:only-of-type {\n",
       "        vertical-align: middle;\n",
       "    }\n",
       "\n",
       "    .dataframe tbody tr th {\n",
       "        vertical-align: top;\n",
       "    }\n",
       "\n",
       "    .dataframe thead th {\n",
       "        text-align: right;\n",
       "    }\n",
       "</style>\n",
       "<table border=\"1\" class=\"dataframe\">\n",
       "  <thead>\n",
       "    <tr style=\"text-align: right;\">\n",
       "      <th></th>\n",
       "      <th>LastPurshaceDate</th>\n",
       "      <th>Recency</th>\n",
       "      <th>Frequency</th>\n",
       "      <th>Monetary</th>\n",
       "      <th>R_Quartile</th>\n",
       "      <th>F_Quartile</th>\n",
       "      <th>M_Quartile</th>\n",
       "      <th>RFMScore</th>\n",
       "    </tr>\n",
       "    <tr>\n",
       "      <th>client_id</th>\n",
       "      <th></th>\n",
       "      <th></th>\n",
       "      <th></th>\n",
       "      <th></th>\n",
       "      <th></th>\n",
       "      <th></th>\n",
       "      <th></th>\n",
       "      <th></th>\n",
       "    </tr>\n",
       "  </thead>\n",
       "  <tbody>\n",
       "    <tr>\n",
       "      <th>58383596</th>\n",
       "      <td>2020-12-30</td>\n",
       "      <td>2</td>\n",
       "      <td>20</td>\n",
       "      <td>19803721.69</td>\n",
       "      <td>4</td>\n",
       "      <td>4</td>\n",
       "      <td>4</td>\n",
       "      <td>444</td>\n",
       "    </tr>\n",
       "    <tr>\n",
       "      <th>97986854</th>\n",
       "      <td>2020-12-28</td>\n",
       "      <td>4</td>\n",
       "      <td>49</td>\n",
       "      <td>11245424.05</td>\n",
       "      <td>4</td>\n",
       "      <td>4</td>\n",
       "      <td>4</td>\n",
       "      <td>444</td>\n",
       "    </tr>\n",
       "    <tr>\n",
       "      <th>26211677</th>\n",
       "      <td>2020-12-27</td>\n",
       "      <td>5</td>\n",
       "      <td>32</td>\n",
       "      <td>9512122.35</td>\n",
       "      <td>4</td>\n",
       "      <td>4</td>\n",
       "      <td>4</td>\n",
       "      <td>444</td>\n",
       "    </tr>\n",
       "    <tr>\n",
       "      <th>39651887</th>\n",
       "      <td>2020-12-31</td>\n",
       "      <td>1</td>\n",
       "      <td>25</td>\n",
       "      <td>9441255.64</td>\n",
       "      <td>4</td>\n",
       "      <td>4</td>\n",
       "      <td>4</td>\n",
       "      <td>444</td>\n",
       "    </tr>\n",
       "    <tr>\n",
       "      <th>1013842</th>\n",
       "      <td>2020-12-29</td>\n",
       "      <td>3</td>\n",
       "      <td>29</td>\n",
       "      <td>8754247.73</td>\n",
       "      <td>4</td>\n",
       "      <td>4</td>\n",
       "      <td>4</td>\n",
       "      <td>444</td>\n",
       "    </tr>\n",
       "    <tr>\n",
       "      <th>94322959</th>\n",
       "      <td>2021-01-01</td>\n",
       "      <td>0</td>\n",
       "      <td>31</td>\n",
       "      <td>8670667.99</td>\n",
       "      <td>4</td>\n",
       "      <td>4</td>\n",
       "      <td>4</td>\n",
       "      <td>444</td>\n",
       "    </tr>\n",
       "    <tr>\n",
       "      <th>27445666</th>\n",
       "      <td>2021-01-01</td>\n",
       "      <td>0</td>\n",
       "      <td>23</td>\n",
       "      <td>8337002.41</td>\n",
       "      <td>4</td>\n",
       "      <td>4</td>\n",
       "      <td>4</td>\n",
       "      <td>444</td>\n",
       "    </tr>\n",
       "    <tr>\n",
       "      <th>9554115</th>\n",
       "      <td>2020-12-25</td>\n",
       "      <td>7</td>\n",
       "      <td>22</td>\n",
       "      <td>7998944.90</td>\n",
       "      <td>4</td>\n",
       "      <td>4</td>\n",
       "      <td>4</td>\n",
       "      <td>444</td>\n",
       "    </tr>\n",
       "    <tr>\n",
       "      <th>79937759</th>\n",
       "      <td>2020-12-30</td>\n",
       "      <td>2</td>\n",
       "      <td>40</td>\n",
       "      <td>7344080.75</td>\n",
       "      <td>4</td>\n",
       "      <td>4</td>\n",
       "      <td>4</td>\n",
       "      <td>444</td>\n",
       "    </tr>\n",
       "    <tr>\n",
       "      <th>63265381</th>\n",
       "      <td>2020-12-31</td>\n",
       "      <td>1</td>\n",
       "      <td>19</td>\n",
       "      <td>6595722.77</td>\n",
       "      <td>4</td>\n",
       "      <td>4</td>\n",
       "      <td>4</td>\n",
       "      <td>444</td>\n",
       "    </tr>\n",
       "  </tbody>\n",
       "</table>\n",
       "</div>"
      ],
      "text/plain": [
       "          LastPurshaceDate  Recency  Frequency     Monetary  R_Quartile  \\\n",
       "client_id                                                                 \n",
       "58383596        2020-12-30        2         20  19803721.69           4   \n",
       "97986854        2020-12-28        4         49  11245424.05           4   \n",
       "26211677        2020-12-27        5         32   9512122.35           4   \n",
       "39651887        2020-12-31        1         25   9441255.64           4   \n",
       "1013842         2020-12-29        3         29   8754247.73           4   \n",
       "94322959        2021-01-01        0         31   8670667.99           4   \n",
       "27445666        2021-01-01        0         23   8337002.41           4   \n",
       "9554115         2020-12-25        7         22   7998944.90           4   \n",
       "79937759        2020-12-30        2         40   7344080.75           4   \n",
       "63265381        2020-12-31        1         19   6595722.77           4   \n",
       "\n",
       "           F_Quartile  M_Quartile RFMScore  \n",
       "client_id                                   \n",
       "58383596            4           4      444  \n",
       "97986854            4           4      444  \n",
       "26211677            4           4      444  \n",
       "39651887            4           4      444  \n",
       "1013842             4           4      444  \n",
       "94322959            4           4      444  \n",
       "27445666            4           4      444  \n",
       "9554115             4           4      444  \n",
       "79937759            4           4      444  \n",
       "63265381            4           4      444  "
      ]
     },
     "execution_count": 72,
     "metadata": {},
     "output_type": "execute_result"
    }
   ],
   "source": [
    "rfm_segmentation[rfm_segmentation['RFMScore']=='444'].sort_values('Monetary', ascending=False).head(10)"
   ]
  },
  {
   "cell_type": "markdown",
   "metadata": {},
   "source": [
    "# Supervised Learning.\n",
    "## Predict gender"
   ]
  },
  {
   "cell_type": "code",
   "execution_count": 82,
   "metadata": {},
   "outputs": [],
   "source": [
    "from sklearn.ensemble import RandomForestClassifier\n",
    "from sklearn.tree import DecisionTreeClassifier\n",
    "from sklearn.neighbors import KNeighborsClassifier\n",
    "from sklearn.model_selection import RandomizedSearchCV, GridSearchCV\n",
    "from sklearn.metrics import accuracy_score, classification_report\n",
    "from sklearn.tree import export_graphviz"
   ]
  },
  {
   "cell_type": "markdown",
   "metadata": {},
   "source": [
    "Import data and store in Pandas DataFrame"
   ]
  },
  {
   "cell_type": "code",
   "execution_count": 83,
   "metadata": {},
   "outputs": [],
   "source": [
    "train = pd.read_csv(\"train_set.csv\", sep = ';')"
   ]
  },
  {
   "cell_type": "code",
   "execution_count": 84,
   "metadata": {},
   "outputs": [],
   "source": [
    "test = pd.read_csv(\"test_set.csv\", sep = ';')"
   ]
  },
  {
   "cell_type": "code",
   "execution_count": 85,
   "metadata": {},
   "outputs": [
    {
     "name": "stdout",
     "output_type": "stream",
     "text": [
      "<class 'pandas.core.frame.DataFrame'>\n",
      "RangeIndex: 6000 entries, 0 to 5999\n",
      "Data columns (total 2 columns):\n",
      " #   Column     Non-Null Count  Dtype\n",
      "---  ------     --------------  -----\n",
      " 0   client_id  6000 non-null   int64\n",
      " 1   target     6000 non-null   int64\n",
      "dtypes: int64(2)\n",
      "memory usage: 93.9 KB\n"
     ]
    }
   ],
   "source": [
    "train.info()"
   ]
  },
  {
   "cell_type": "code",
   "execution_count": 86,
   "metadata": {},
   "outputs": [],
   "source": [
    "train = pd.merge(transactions, train, on='client_id', how='right')"
   ]
  },
  {
   "cell_type": "code",
   "execution_count": 87,
   "metadata": {},
   "outputs": [
    {
     "name": "stdout",
     "output_type": "stream",
     "text": [
      "<class 'pandas.core.frame.DataFrame'>\n",
      "Int64Index: 91826 entries, 0 to 91825\n",
      "Data columns (total 8 columns):\n",
      " #   Column     Non-Null Count  Dtype  \n",
      "---  ------     --------------  -----  \n",
      " 0   client_id  91826 non-null  int64  \n",
      " 1   datetime   91826 non-null  object \n",
      " 2   code       91826 non-null  int64  \n",
      " 3   type       91826 non-null  int64  \n",
      " 4   sum        91826 non-null  float64\n",
      " 5   day        91826 non-null  int64  \n",
      " 6   time       91826 non-null  object \n",
      " 7   target     91826 non-null  int64  \n",
      "dtypes: float64(1), int64(5), object(2)\n",
      "memory usage: 6.3+ MB\n"
     ]
    }
   ],
   "source": [
    "train.info()"
   ]
  },
  {
   "cell_type": "markdown",
   "metadata": {},
   "source": [
    "Train model on 4 features: code, type, day, sum"
   ]
  },
  {
   "cell_type": "code",
   "execution_count": 88,
   "metadata": {},
   "outputs": [],
   "source": [
    "train = train[['code','type','day', 'sum','target']]"
   ]
  },
  {
   "cell_type": "code",
   "execution_count": 89,
   "metadata": {},
   "outputs": [],
   "source": [
    "X_train, y_train = train.drop('target', axis=1), train.target"
   ]
  },
  {
   "cell_type": "markdown",
   "metadata": {},
   "source": [
    "Initialize parameters for RandomSearchCV"
   ]
  },
  {
   "cell_type": "code",
   "execution_count": 90,
   "metadata": {},
   "outputs": [],
   "source": [
    "n_estimators = [int(x) for x in np.linspace(start = 200, stop = 2000, num = 10)]\n",
    "max_features = ['auto', 'sqrt']\n",
    "max_depth = [int(x) for x in np.linspace(10, 110, num = 11)]\n",
    "max_depth.append(None)\n",
    "min_samples_split = [2, 5, 10]\n",
    "min_samples_leaf = [1, 2, 4]\n",
    "bootstrap = [True, False]"
   ]
  },
  {
   "cell_type": "code",
   "execution_count": 91,
   "metadata": {},
   "outputs": [],
   "source": [
    "random_grid = {'n_estimators': n_estimators,\n",
    "               'max_features': max_features,\n",
    "               'max_depth': max_depth,\n",
    "               'min_samples_split': min_samples_split,\n",
    "               'min_samples_leaf': min_samples_leaf,\n",
    "               'bootstrap': bootstrap}"
   ]
  },
  {
   "cell_type": "markdown",
   "metadata": {},
   "source": [
    "Declare RandormForestClassifier model"
   ]
  },
  {
   "cell_type": "code",
   "execution_count": 92,
   "metadata": {},
   "outputs": [],
   "source": [
    "rfc = RandomForestClassifier()"
   ]
  },
  {
   "cell_type": "code",
   "execution_count": 93,
   "metadata": {},
   "outputs": [],
   "source": [
    "rf_random = RandomizedSearchCV(estimator=rfc, param_distributions=random_grid, n_iter = 2, cv = 2, verbose=2,\n",
    "                              random_state=52, n_jobs=8)"
   ]
  },
  {
   "cell_type": "markdown",
   "metadata": {},
   "source": [
    "Fit on train data"
   ]
  },
  {
   "cell_type": "code",
   "execution_count": 94,
   "metadata": {},
   "outputs": [
    {
     "name": "stdout",
     "output_type": "stream",
     "text": [
      "Fitting 2 folds for each of 2 candidates, totalling 4 fits\n"
     ]
    },
    {
     "data": {
      "text/plain": [
       "RandomizedSearchCV(cv=2, estimator=RandomForestClassifier(), n_iter=2, n_jobs=8,\n",
       "                   param_distributions={'bootstrap': [True, False],\n",
       "                                        'max_depth': [10, 20, 30, 40, 50, 60,\n",
       "                                                      70, 80, 90, 100, 110,\n",
       "                                                      None],\n",
       "                                        'max_features': ['auto', 'sqrt'],\n",
       "                                        'min_samples_leaf': [1, 2, 4],\n",
       "                                        'min_samples_split': [2, 5, 10],\n",
       "                                        'n_estimators': [200, 400, 600, 800,\n",
       "                                                         1000, 1200, 1400, 1600,\n",
       "                                                         1800, 2000]},\n",
       "                   random_state=52, verbose=2)"
      ]
     },
     "execution_count": 94,
     "metadata": {},
     "output_type": "execute_result"
    }
   ],
   "source": [
    "rf_random.fit(X_train, y_train)"
   ]
  },
  {
   "cell_type": "markdown",
   "metadata": {},
   "source": [
    "As we don't have test data, we will predict on train"
   ]
  },
  {
   "cell_type": "markdown",
   "metadata": {},
   "source": [
    "Best Parameters"
   ]
  },
  {
   "cell_type": "code",
   "execution_count": 95,
   "metadata": {},
   "outputs": [
    {
     "data": {
      "text/plain": [
       "RandomForestClassifier(max_depth=100, min_samples_leaf=4, min_samples_split=5,\n",
       "                       n_estimators=600)"
      ]
     },
     "execution_count": 95,
     "metadata": {},
     "output_type": "execute_result"
    }
   ],
   "source": [
    "rf_random.best_estimator_"
   ]
  },
  {
   "cell_type": "code",
   "execution_count": 96,
   "metadata": {},
   "outputs": [],
   "source": [
    "pred = rf_random.predict(X_train)"
   ]
  },
  {
   "cell_type": "markdown",
   "metadata": {},
   "source": [
    "Metrics:"
   ]
  },
  {
   "cell_type": "code",
   "execution_count": 97,
   "metadata": {},
   "outputs": [
    {
     "data": {
      "text/plain": [
       "0.8093023762333108"
      ]
     },
     "execution_count": 97,
     "metadata": {},
     "output_type": "execute_result"
    }
   ],
   "source": [
    "accuracy_score(y_train, pred)"
   ]
  },
  {
   "cell_type": "code",
   "execution_count": 98,
   "metadata": {},
   "outputs": [
    {
     "name": "stdout",
     "output_type": "stream",
     "text": [
      "              precision    recall  f1-score   support\n",
      "\n",
      "           0       0.79      0.85      0.82     46715\n",
      "           1       0.83      0.77      0.80     45111\n",
      "\n",
      "    accuracy                           0.81     91826\n",
      "   macro avg       0.81      0.81      0.81     91826\n",
      "weighted avg       0.81      0.81      0.81     91826\n",
      "\n"
     ]
    }
   ],
   "source": [
    "print(classification_report(y_train, pred))"
   ]
  },
  {
   "cell_type": "markdown",
   "metadata": {},
   "source": [
    "Train on DecisionTreeClassifier"
   ]
  },
  {
   "cell_type": "code",
   "execution_count": 99,
   "metadata": {},
   "outputs": [],
   "source": [
    "dtc = DecisionTreeClassifier()"
   ]
  },
  {
   "cell_type": "code",
   "execution_count": 100,
   "metadata": {},
   "outputs": [],
   "source": [
    "n_components = list(range(1,X_train.shape[1]+1,1))\n",
    "criterion = ['gini', 'entropy']\n",
    "max_depth = [2,4,6,8,10,12]"
   ]
  },
  {
   "cell_type": "markdown",
   "metadata": {},
   "source": [
    "Set parameters"
   ]
  },
  {
   "cell_type": "code",
   "execution_count": 101,
   "metadata": {},
   "outputs": [],
   "source": [
    "parameters = {'criterion':criterion,\n",
    "              'max_depth':max_depth}"
   ]
  },
  {
   "cell_type": "code",
   "execution_count": 102,
   "metadata": {},
   "outputs": [],
   "source": [
    "dtc_GS = GridSearchCV(estimator = dtc, param_grid=parameters)"
   ]
  },
  {
   "cell_type": "code",
   "execution_count": 103,
   "metadata": {},
   "outputs": [
    {
     "data": {
      "text/plain": [
       "GridSearchCV(estimator=DecisionTreeClassifier(),\n",
       "             param_grid={'criterion': ['gini', 'entropy'],\n",
       "                         'max_depth': [2, 4, 6, 8, 10, 12]})"
      ]
     },
     "execution_count": 103,
     "metadata": {},
     "output_type": "execute_result"
    }
   ],
   "source": [
    "dtc_GS.fit(X_train, y_train)"
   ]
  },
  {
   "cell_type": "code",
   "execution_count": 104,
   "metadata": {},
   "outputs": [
    {
     "data": {
      "text/plain": [
       "DecisionTreeClassifier()"
      ]
     },
     "execution_count": 104,
     "metadata": {},
     "output_type": "execute_result"
    }
   ],
   "source": [
    "dtc.fit(X_train, y_train)"
   ]
  },
  {
   "cell_type": "code",
   "execution_count": 105,
   "metadata": {},
   "outputs": [],
   "source": [
    "from sklearn import tree"
   ]
  },
  {
   "cell_type": "markdown",
   "metadata": {},
   "source": [
    "Plot Decision Tree"
   ]
  },
  {
   "cell_type": "code",
   "execution_count": null,
   "metadata": {},
   "outputs": [],
   "source": [
    "from dtreeviz.trees import dtreeviz\n",
    "\n",
    "viz = dtreeviz(dtc, X_train, y_train,\n",
    "                target_name=\"target\",\n",
    "                feature_names=X_train.columns,\n",
    "                class_names=['MALE', 'FEMALE'], fontname='DejaVu Sans')\n",
    "\n",
    "viz"
   ]
  },
  {
   "cell_type": "markdown",
   "metadata": {},
   "source": [
    "Best Parameter for our model"
   ]
  },
  {
   "cell_type": "code",
   "execution_count": 145,
   "metadata": {},
   "outputs": [
    {
     "data": {
      "text/plain": [
       "DecisionTreeClassifier(max_depth=12)"
      ]
     },
     "execution_count": 145,
     "metadata": {},
     "output_type": "execute_result"
    }
   ],
   "source": [
    "dtc_GS.best_estimator_"
   ]
  },
  {
   "cell_type": "code",
   "execution_count": 146,
   "metadata": {},
   "outputs": [],
   "source": [
    "preds = dtc_GS.best_estimator_.predict(X_train)"
   ]
  },
  {
   "cell_type": "code",
   "execution_count": 147,
   "metadata": {},
   "outputs": [
    {
     "name": "stdout",
     "output_type": "stream",
     "text": [
      "              precision    recall  f1-score   support\n",
      "\n",
      "           0       0.58      0.69      0.63     46715\n",
      "           1       0.60      0.49      0.54     45111\n",
      "\n",
      "    accuracy                           0.59     91826\n",
      "   macro avg       0.59      0.59      0.58     91826\n",
      "weighted avg       0.59      0.59      0.59     91826\n",
      "\n"
     ]
    }
   ],
   "source": [
    "print(classification_report(y_train, preds))"
   ]
  },
  {
   "cell_type": "markdown",
   "metadata": {},
   "source": [
    "Train on KNN and tune parameters with GridSearchCV"
   ]
  },
  {
   "cell_type": "code",
   "execution_count": 148,
   "metadata": {},
   "outputs": [],
   "source": [
    "knn = KNeighborsClassifier()"
   ]
  },
  {
   "cell_type": "code",
   "execution_count": 149,
   "metadata": {},
   "outputs": [],
   "source": [
    "k_range = list(range(1, 31))\n",
    "param_grid = dict(n_neighbors=k_range)"
   ]
  },
  {
   "cell_type": "code",
   "execution_count": 150,
   "metadata": {},
   "outputs": [],
   "source": [
    "grid = GridSearchCV(knn, param_grid, cv=10, scoring='accuracy', return_train_score=False,verbose=1)"
   ]
  },
  {
   "cell_type": "code",
   "execution_count": 151,
   "metadata": {},
   "outputs": [
    {
     "name": "stdout",
     "output_type": "stream",
     "text": [
      "Fitting 10 folds for each of 30 candidates, totalling 300 fits\n",
      "[CV] END bootstrap=True, max_depth=100, max_features=auto, min_samples_leaf=4, min_samples_split=5, n_estimators=600; total time=  40.5s\n",
      "[CV] END bootstrap=True, max_depth=100, max_features=auto, min_samples_leaf=4, min_samples_split=5, n_estimators=600; total time=  43.9s\n"
     ]
    }
   ],
   "source": [
    "grid_search = grid.fit(X_train, y_train)"
   ]
  },
  {
   "cell_type": "markdown",
   "metadata": {},
   "source": [
    "Metrics for each cross validation"
   ]
  },
  {
   "cell_type": "code",
   "execution_count": 110,
   "metadata": {},
   "outputs": [
    {
     "data": {
      "text/html": [
       "<div>\n",
       "<style scoped>\n",
       "    .dataframe tbody tr th:only-of-type {\n",
       "        vertical-align: middle;\n",
       "    }\n",
       "\n",
       "    .dataframe tbody tr th {\n",
       "        vertical-align: top;\n",
       "    }\n",
       "\n",
       "    .dataframe thead th {\n",
       "        text-align: right;\n",
       "    }\n",
       "</style>\n",
       "<table border=\"1\" class=\"dataframe\">\n",
       "  <thead>\n",
       "    <tr style=\"text-align: right;\">\n",
       "      <th></th>\n",
       "      <th>code</th>\n",
       "      <th>type</th>\n",
       "      <th>day</th>\n",
       "      <th>sum</th>\n",
       "    </tr>\n",
       "  </thead>\n",
       "  <tbody>\n",
       "    <tr>\n",
       "      <th>0</th>\n",
       "      <td>4814</td>\n",
       "      <td>1030</td>\n",
       "      <td>397</td>\n",
       "      <td>-4491.83</td>\n",
       "    </tr>\n",
       "    <tr>\n",
       "      <th>1</th>\n",
       "      <td>6010</td>\n",
       "      <td>7070</td>\n",
       "      <td>86</td>\n",
       "      <td>4491.83</td>\n",
       "    </tr>\n",
       "    <tr>\n",
       "      <th>2</th>\n",
       "      <td>4814</td>\n",
       "      <td>1030</td>\n",
       "      <td>375</td>\n",
       "      <td>-3144.28</td>\n",
       "    </tr>\n",
       "    <tr>\n",
       "      <th>3</th>\n",
       "      <td>5411</td>\n",
       "      <td>1010</td>\n",
       "      <td>136</td>\n",
       "      <td>-3930.35</td>\n",
       "    </tr>\n",
       "    <tr>\n",
       "      <th>4</th>\n",
       "      <td>6011</td>\n",
       "      <td>2010</td>\n",
       "      <td>378</td>\n",
       "      <td>-4491.83</td>\n",
       "    </tr>\n",
       "    <tr>\n",
       "      <th>...</th>\n",
       "      <td>...</td>\n",
       "      <td>...</td>\n",
       "      <td>...</td>\n",
       "      <td>...</td>\n",
       "    </tr>\n",
       "    <tr>\n",
       "      <th>91821</th>\n",
       "      <td>5999</td>\n",
       "      <td>1100</td>\n",
       "      <td>452</td>\n",
       "      <td>-2243.45</td>\n",
       "    </tr>\n",
       "    <tr>\n",
       "      <th>91822</th>\n",
       "      <td>5411</td>\n",
       "      <td>1010</td>\n",
       "      <td>196</td>\n",
       "      <td>-4783.80</td>\n",
       "    </tr>\n",
       "    <tr>\n",
       "      <th>91823</th>\n",
       "      <td>5732</td>\n",
       "      <td>1010</td>\n",
       "      <td>186</td>\n",
       "      <td>-112273.33</td>\n",
       "    </tr>\n",
       "    <tr>\n",
       "      <th>91824</th>\n",
       "      <td>6010</td>\n",
       "      <td>7030</td>\n",
       "      <td>440</td>\n",
       "      <td>168443.68</td>\n",
       "    </tr>\n",
       "    <tr>\n",
       "      <th>91825</th>\n",
       "      <td>5411</td>\n",
       "      <td>1010</td>\n",
       "      <td>148</td>\n",
       "      <td>-23634.89</td>\n",
       "    </tr>\n",
       "  </tbody>\n",
       "</table>\n",
       "<p>91826 rows × 4 columns</p>\n",
       "</div>"
      ],
      "text/plain": [
       "       code  type  day        sum\n",
       "0      4814  1030  397   -4491.83\n",
       "1      6010  7070   86    4491.83\n",
       "2      4814  1030  375   -3144.28\n",
       "3      5411  1010  136   -3930.35\n",
       "4      6011  2010  378   -4491.83\n",
       "...     ...   ...  ...        ...\n",
       "91821  5999  1100  452   -2243.45\n",
       "91822  5411  1010  196   -4783.80\n",
       "91823  5732  1010  186 -112273.33\n",
       "91824  6010  7030  440  168443.68\n",
       "91825  5411  1010  148  -23634.89\n",
       "\n",
       "[91826 rows x 4 columns]"
      ]
     },
     "execution_count": 110,
     "metadata": {},
     "output_type": "execute_result"
    }
   ],
   "source": [
    "X_train"
   ]
  },
  {
   "cell_type": "code",
   "execution_count": 121,
   "metadata": {},
   "outputs": [
    {
     "data": {
      "text/plain": [
       "0    46715\n",
       "1    45111\n",
       "Name: target, dtype: int64"
      ]
     },
     "execution_count": 121,
     "metadata": {},
     "output_type": "execute_result"
    }
   ],
   "source": [
    "train.target.value_counts()"
   ]
  },
  {
   "cell_type": "code",
   "execution_count": 126,
   "metadata": {},
   "outputs": [
    {
     "name": "stderr",
     "output_type": "stream",
     "text": [
      "/tmp/ipykernel_123696/2015625601.py:3: MatplotlibDeprecationWarning: Axes3D(fig) adding itself to the figure is deprecated since 3.4. Pass the keyword argument auto_add_to_figure=False and use fig.add_axes(ax) to suppress this warning. The default value of auto_add_to_figure will change to False in mpl3.5 and True values will no longer work in 3.6.  This is consistent with other Axes classes.\n",
      "  ax = Axes3D(fig, elev=48, azim=134)\n"
     ]
    },
    {
     "data": {
      "image/png": "[encoded data removed]",
      "text/plain": [
       "<Figure size 1440x1080 with 1 Axes>"
      ]
     },
     "metadata": {
      "needs_background": "light"
     },
     "output_type": "display_data"
    }
   ],
   "source": [
    "from mpl_toolkits.mplot3d import Axes3D\n",
    "fig = plt.figure(1, figsize=(20, 15))\n",
    "ax = Axes3D(fig, elev=48, azim=134)\n",
    "ax.scatter(X_train.type, X_train.day, X_train['sum'], c=y_train,\n",
    "           cmap=plt.cm.Set1, edgecolor='b', s = 50)\n",
    "\n",
    "ax.set_title(\"3D visualization of KNN\", fontsize=40)\n",
    "ax.set_xlabel(\"Type\", fontsize=25)\n",
    "ax.w_xaxis.set_ticklabels([])\n",
    "ax.set_ylabel(\"Day\", fontsize=25)\n",
    "ax.w_yaxis.set_ticklabels([])\n",
    "ax.set_zlabel(\"Sum\", fontsize=25)\n",
    "ax.w_zaxis.set_ticklabels([])\n",
    "\n",
    "plt.show()"
   ]
  },
  {
   "cell_type": "code",
   "execution_count": 152,
   "metadata": {},
   "outputs": [
    {
     "name": "stdout",
     "output_type": "stream",
     "text": [
      "Accuracy for our training dataset with tuning is : 51.47%\n"
     ]
    }
   ],
   "source": [
    "accuracy = grid_search.best_score_ *100\n",
    "print(\"Accuracy for our training dataset with tuning is : {:.2f}%\".format(accuracy) )"
   ]
  },
  {
   "cell_type": "code",
   "execution_count": 153,
   "metadata": {},
   "outputs": [],
   "source": [
    "from sklearn.metrics import RocCurveDisplay"
   ]
  },
  {
   "cell_type": "code",
   "execution_count": 154,
   "metadata": {},
   "outputs": [
    {
     "data": {
      "image/png": "[encoded data removed]",
      "text/plain": [
       "<Figure size 432x288 with 1 Axes>"
      ]
     },
     "metadata": {
      "needs_background": "light"
     },
     "output_type": "display_data"
    }
   ],
   "source": [
    "svc_disp = RocCurveDisplay.from_estimator(rf_random, X_train, y_train)"
   ]
  },
  {
   "cell_type": "code",
   "execution_count": 156,
   "metadata": {},
   "outputs": [
    {
     "data": {
      "image/png": "[encoded data removed]",
      "text/plain": [
       "<Figure size 432x288 with 1 Axes>"
      ]
     },
     "metadata": {
      "needs_background": "light"
     },
     "output_type": "display_data"
    }
   ],
   "source": [
    "svc_disp = RocCurveDisplay.from_estimator(grid, X_train, y_train)"
   ]
  },
  {
   "cell_type": "code",
   "execution_count": 158,
   "metadata": {},
   "outputs": [
    {
     "data": {
      "image/png": "[encoded data removed]",
      "text/plain": [
       "<Figure size 432x288 with 1 Axes>"
      ]
     },
     "metadata": {
      "needs_background": "light"
     },
     "output_type": "display_data"
    },
    {
     "name": "stdout",
     "output_type": "stream",
     "text": [
      "[CV] END bootstrap=False, max_depth=40, max_features=sqrt, min_samples_leaf=2, min_samples_split=2, n_estimators=1600; total time= 2.7min\n",
      "[CV] END bootstrap=False, max_depth=40, max_features=sqrt, min_samples_leaf=2, min_samples_split=2, n_estimators=1600; total time= 2.8min\n"
     ]
    }
   ],
   "source": [
    "svc_disp = RocCurveDisplay.from_estimator(dtc_GS, X_train, y_train)"
   ]
  },
  {
   "cell_type": "markdown",
   "metadata": {},
   "source": [
    "### Conclusion. Supervised Learning Models\n",
    "As the data is very small in size the classifier fails to perfectly fit the data and submit quite good accuracy.\n",
    "Still RFC has a better score than othr models.\n",
    "As decision tree models can fit appropriately over medium-small data ,it produces a larger accuracy.\n",
    "\n",
    "have trained data in 3 models:\n",
    "1) Random Forest Classifier\n",
    "\n",
    "2) Decision Tree Classifier\n",
    "\n",
    "3) KNearestNeighbors Classifier\n",
    "\n",
    "\n",
    "All 3 models had evaluated by classification reports, that gives out metrics fit on our problem, as Recall, Precision, Accuracy, etc."
   ]
  },
  {
   "cell_type": "markdown",
   "metadata": {},
   "source": [
    "## Conclusion"
   ]
  },
  {
   "cell_type": "markdown",
   "metadata": {},
   "source": [
    "We worked with sets of transaction data, codes, types to make it easier to divide clients into several clusters. The first step was to perform data preparation, which consists of processing null and duplicate values, as well as performing some descriptive statistics to get a basic understanding of our data. Then we did a preliminary analysis of the data using function visualization and created new functions for further unsupervised learning. In terms of developing functions, the RFM principle was used (in business analytics, it often use this concept to divide customers into different segments. Unsupervised machine learning consisted of two parts: k-means and hierarchical clustering. The K-means algorithm was implemented based on the principle to divide customers into general categories depending on their recency, frequency and monetary value. And hierarchical clustering was implemented in order to segment customers based on the similarity of their transactions. As a result, we were able to divide clients into different clusters based on different methodologies."
   ]
  }
 ],
 "metadata": {
  "colab": {
   "name": " Project.ipynb",
   "provenance": []
  },
  "kernelspec": {
   "display_name": "Python 3",
   "language": "python",
   "name": "python3"
  },
  "language_info": {
   "codemirror_mode": {
    "name": "ipython",
    "version": 3
   },
   "file_extension": ".py",
   "mimetype": "text/x-python",
   "name": "python",
   "nbconvert_exporter": "python",
   "pygments_lexer": "ipython3",
   "version": "3.8.5"
  }
 },
 "nbformat": 4,
 "nbformat_minor": 4
}
